{
 "cells": [
  {
   "cell_type": "markdown",
   "id": "3Xg_RQfnafXz",
   "metadata": {
    "id": "3Xg_RQfnafXz"
   },
   "source": [
    "# PROYECTO 04"
   ]
  },
  {
   "cell_type": "markdown",
   "id": "33b810f2-ba97-4f76-b712-31923e2cd348",
   "metadata": {},
   "source": [
    "## JAVIER CRUZ"
   ]
  },
  {
   "cell_type": "markdown",
   "id": "mhIvmmkW414q",
   "metadata": {
    "id": "mhIvmmkW414q"
   },
   "source": [
    "# Introducción\n",
    "\n",
    "Instacart es una plataforma de entregas de comestibles donde la clientela puede registrar un pedido y hacer que se lo entreguen, similar a Uber Eats y Door Dash.\n",
    "El conjunto de datos que te hemos proporcionado tiene modificaciones del original. Redujimos el tamaño del conjunto para que tus cálculos se hicieran más rápido e introdujimos valores ausentes y duplicados. Tuvimos cuidado de conservar las distribuciones de los datos originales cuando hicimos los cambios.\n",
    "\n",
    "Debes completar tres pasos. Para cada uno de ellos, escribe una breve introducción que refleje con claridad cómo pretendes resolver cada paso, y escribe párrafos explicatorios que justifiquen tus decisiones al tiempo que avanzas en tu solución.  También escribe una conclusión que resuma tus hallazgos y elecciones.\n"
   ]
  },
  {
   "cell_type": "markdown",
   "id": "3MbyzpOQZ5Or",
   "metadata": {
    "id": "3MbyzpOQZ5Or"
   },
   "source": [
    "## Diccionario de datos\n",
    "\n",
    "Hay cinco tablas en el conjunto de datos, y tendrás que usarlas todas para hacer el preprocesamiento de datos y el análisis exploratorio de datos. A continuación se muestra un diccionario de datos que enumera las columnas de cada tabla y describe los datos que contienen.\n",
    "\n",
    "- `instacart_orders.csv`: cada fila corresponde a un pedido en la aplicación Instacart.\n",
    "    - `'order_id'`: número de ID que identifica de manera única cada pedido.\n",
    "    - `'user_id'`: número de ID que identifica de manera única la cuenta de cada cliente.\n",
    "    - `'order_number'`: el número de veces que este cliente ha hecho un pedido.\n",
    "    - `'order_dow'`: día de la semana en que se hizo el pedido (0 si es domingo).\n",
    "    - `'order_hour_of_day'`: hora del día en que se hizo el pedido.\n",
    "    - `'days_since_prior_order'`: número de días transcurridos desde que este cliente hizo su pedido anterior.\n",
    "- `products.csv`: cada fila corresponde a un producto único que pueden comprar los clientes.\n",
    "    - `'product_id'`: número ID que identifica de manera única cada producto.\n",
    "    - `'product_name'`: nombre del producto.\n",
    "    - `'aisle_id'`: número ID que identifica de manera única cada categoría de pasillo de víveres.\n",
    "    - `'department_id'`: número ID que identifica de manera única cada departamento de víveres.\n",
    "- `order_products.csv`: cada fila corresponde a un artículo pedido en un pedido.\n",
    "    - `'order_id'`: número de ID que identifica de manera única cada pedido.\n",
    "    - `'product_id'`: número ID que identifica de manera única cada producto.\n",
    "    - `'add_to_cart_order'`: el orden secuencial en el que se añadió cada artículo en el carrito.\n",
    "    - `'reordered'`: 0 si el cliente nunca ha pedido este producto antes, 1 si lo ha pedido.\n",
    "- `aisles.csv`\n",
    "    - `'aisle_id'`: número ID que identifica de manera única cada categoría de pasillo de víveres.\n",
    "    - `'aisle'`: nombre del pasillo.\n",
    "- `departments.csv`\n",
    "    - `'department_id'`: número ID que identifica de manera única cada departamento de víveres.\n",
    "    - `'department'`: nombre del departamento."
   ]
  },
  {
   "cell_type": "markdown",
   "id": "n3Ha_cNSZ8lK",
   "metadata": {
    "id": "n3Ha_cNSZ8lK"
   },
   "source": [
    "# Paso 1. Descripción de los datos\n",
    "\n",
    "Lee los archivos de datos (`/datasets/instacart_orders.csv`, `/datasets/products.csv`, `/datasets/aisles.csv`, `/datasets/departments.csv` y `/datasets/order_products.csv`) con `pd.read_csv()` usando los parámetros adecuados para leer los datos correctamente. Verifica la información para cada DataFrame creado.\n"
   ]
  },
  {
   "cell_type": "markdown",
   "id": "OmlQPLlyaAfR",
   "metadata": {
    "id": "OmlQPLlyaAfR"
   },
   "source": [
    "## Plan de solución\n",
    "\n",
    "Escribe aquí tu plan de solución para el Paso 1. Descripción de los datos."
   ]
  },
  {
   "cell_type": "code",
   "execution_count": 1,
   "id": "fbf1adab",
   "metadata": {
    "id": "fbf1adab"
   },
   "outputs": [],
   "source": [
    "# importar librerías\n",
    "import pandas as pd\n",
    "import numpy as np\n",
    "import matplotlib.pyplot as plt\n",
    "import seaborn as sns"
   ]
  },
  {
   "cell_type": "code",
   "execution_count": 2,
   "id": "a5ccca40",
   "metadata": {},
   "outputs": [],
   "source": [
    "plt.style.use('ggplot')\n",
    "sns.set(style=\"whitegrid\")"
   ]
  },
  {
   "cell_type": "code",
   "execution_count": 5,
   "id": "ad36396d",
   "metadata": {
    "id": "ad36396d"
   },
   "outputs": [],
   "source": [
    "# leer conjuntos de datos en los DataFrames\n",
    "orders = pd.read_csv('/datasets/instacart_orders.csv', sep=';')\n",
    "#products = pd.read_csv('/datasets/products.csv', sep=';', names=['product_id', 'product_name', 'aisle_id', 'department_id'])\n",
    "products = pd.read_csv('/datasets/products.csv', sep=';')\n",
    "aisles = pd.read_csv('/datasets/aisles.csv', sep=';')\n",
    "departments = pd.read_csv('/datasets/departments.csv', sep=';')\n",
    "#order_products = pd.read_csv('/datasets/order_products.csv', sep=';', names=['order_id', 'product_id', 'add_to_cart_order', 'reordered'])\n",
    "order_products = pd.read_csv('/datasets/order_products.csv', sep=';')"
   ]
  },
  {
   "cell_type": "code",
   "execution_count": 7,
   "id": "ad6a1efa",
   "metadata": {
    "id": "ad6a1efa"
   },
   "outputs": [
    {
     "name": "stdout",
     "output_type": "stream",
     "text": [
      "Información del DataFrame orders:\n",
      "<class 'pandas.core.frame.DataFrame'>\n",
      "RangeIndex: 478967 entries, 0 to 478966\n",
      "Data columns (total 6 columns):\n",
      " #   Column                  Non-Null Count   Dtype  \n",
      "---  ------                  --------------   -----  \n",
      " 0   order_id                478967 non-null  int64  \n",
      " 1   user_id                 478967 non-null  int64  \n",
      " 2   order_number            478967 non-null  int64  \n",
      " 3   order_dow               478967 non-null  int64  \n",
      " 4   order_hour_of_day       478967 non-null  int64  \n",
      " 5   days_since_prior_order  450148 non-null  float64\n",
      "dtypes: float64(1), int64(5)\n",
      "memory usage: 21.9 MB\n",
      "None\n",
      "\n",
      "Primeras filas del DataFrame orders:\n",
      "   order_id  user_id  order_number  order_dow  order_hour_of_day  \\\n",
      "0   1515936   183418            11          6                 13   \n",
      "1   1690866   163593             5          5                 12   \n",
      "2   1454967    39980             4          5                 19   \n",
      "3   1768857    82516            56          0                 20   \n",
      "4   3007858   196724             2          4                 12   \n",
      "\n",
      "   days_since_prior_order  \n",
      "0                    30.0  \n",
      "1                     9.0  \n",
      "2                     2.0  \n",
      "3                    10.0  \n",
      "4                    17.0  \n"
     ]
    }
   ],
   "source": [
    "# mostrar información del DataFrame\n",
    "print(\"Información del DataFrame orders:\")\n",
    "print(orders.info(show_counts=True))\n",
    "print(\"\\nPrimeras filas del DataFrame orders:\")\n",
    "print(orders.head())"
   ]
  },
  {
   "cell_type": "code",
   "execution_count": 8,
   "id": "5130e05e",
   "metadata": {
    "id": "5130e05e"
   },
   "outputs": [
    {
     "name": "stdout",
     "output_type": "stream",
     "text": [
      "\n",
      "Información del DataFrame products:\n",
      "<class 'pandas.core.frame.DataFrame'>\n",
      "RangeIndex: 49694 entries, 0 to 49693\n",
      "Data columns (total 4 columns):\n",
      " #   Column         Non-Null Count  Dtype \n",
      "---  ------         --------------  ----- \n",
      " 0   product_id     49694 non-null  int64 \n",
      " 1   product_name   48436 non-null  object\n",
      " 2   aisle_id       49694 non-null  int64 \n",
      " 3   department_id  49694 non-null  int64 \n",
      "dtypes: int64(3), object(1)\n",
      "memory usage: 1.5+ MB\n",
      "None\n",
      "\n",
      "Primeras filas del DataFrame products:\n",
      "   product_id                                       product_name  aisle_id  \\\n",
      "0           1                         Chocolate Sandwich Cookies        61   \n",
      "1           2                                   All-Seasons Salt       104   \n",
      "2           3               Robust Golden Unsweetened Oolong Tea        94   \n",
      "3           4  Smart Ones Classic Favorites Mini Rigatoni Wit...        38   \n",
      "4           5                          Green Chile Anytime Sauce         5   \n",
      "\n",
      "   department_id  \n",
      "0             19  \n",
      "1             13  \n",
      "2              7  \n",
      "3              1  \n",
      "4             13  \n"
     ]
    }
   ],
   "source": [
    "# mostrar información del DataFrame\n",
    "print(\"\\nInformación del DataFrame products:\")\n",
    "print(products.info(show_counts=True))\n",
    "print(\"\\nPrimeras filas del DataFrame products:\")\n",
    "print(products.head())"
   ]
  },
  {
   "cell_type": "code",
   "execution_count": 9,
   "id": "d8370c05",
   "metadata": {
    "id": "d8370c05"
   },
   "outputs": [
    {
     "name": "stdout",
     "output_type": "stream",
     "text": [
      "\n",
      "Información del DataFrame aisles:\n",
      "<class 'pandas.core.frame.DataFrame'>\n",
      "RangeIndex: 134 entries, 0 to 133\n",
      "Data columns (total 2 columns):\n",
      " #   Column    Non-Null Count  Dtype \n",
      "---  ------    --------------  ----- \n",
      " 0   aisle_id  134 non-null    int64 \n",
      " 1   aisle     134 non-null    object\n",
      "dtypes: int64(1), object(1)\n",
      "memory usage: 2.2+ KB\n",
      "None\n",
      "\n",
      "Primeras filas del DataFrame aisles:\n",
      "   aisle_id                       aisle\n",
      "0         1       prepared soups salads\n",
      "1         2           specialty cheeses\n",
      "2         3         energy granola bars\n",
      "3         4               instant foods\n",
      "4         5  marinades meat preparation\n"
     ]
    }
   ],
   "source": [
    "# mostrar información del DataFrame\n",
    "print(\"\\nInformación del DataFrame aisles:\")\n",
    "print(aisles.info(show_counts=True))\n",
    "print(\"\\nPrimeras filas del DataFrame aisles:\")\n",
    "print(aisles.head())"
   ]
  },
  {
   "cell_type": "code",
   "execution_count": 10,
   "id": "59e2090f",
   "metadata": {
    "id": "59e2090f"
   },
   "outputs": [
    {
     "name": "stdout",
     "output_type": "stream",
     "text": [
      "\n",
      "Información del DataFrame departments:\n",
      "<class 'pandas.core.frame.DataFrame'>\n",
      "RangeIndex: 21 entries, 0 to 20\n",
      "Data columns (total 2 columns):\n",
      " #   Column         Non-Null Count  Dtype \n",
      "---  ------         --------------  ----- \n",
      " 0   department_id  21 non-null     int64 \n",
      " 1   department     21 non-null     object\n",
      "dtypes: int64(1), object(1)\n",
      "memory usage: 464.0+ bytes\n",
      "None\n",
      "\n",
      "Primeras filas del DataFrame departments:\n",
      "   department_id department\n",
      "0              1     frozen\n",
      "1              2      other\n",
      "2              3     bakery\n",
      "3              4    produce\n",
      "4              5    alcohol\n"
     ]
    }
   ],
   "source": [
    "# mostrar información del DataFrame\n",
    "print(\"\\nInformación del DataFrame departments:\")\n",
    "print(departments.info(show_counts=True))\n",
    "print(\"\\nPrimeras filas del DataFrame departments:\")\n",
    "print(departments.head())"
   ]
  },
  {
   "cell_type": "code",
   "execution_count": 11,
   "id": "6fc81694",
   "metadata": {
    "id": "6fc81694"
   },
   "outputs": [
    {
     "name": "stdout",
     "output_type": "stream",
     "text": [
      "\n",
      "Información del DataFrame order_products:\n",
      "<class 'pandas.core.frame.DataFrame'>\n",
      "RangeIndex: 4545007 entries, 0 to 4545006\n",
      "Data columns (total 4 columns):\n",
      " #   Column             Non-Null Count    Dtype  \n",
      "---  ------             --------------    -----  \n",
      " 0   order_id           4545007 non-null  int64  \n",
      " 1   product_id         4545007 non-null  int64  \n",
      " 2   add_to_cart_order  4544171 non-null  float64\n",
      " 3   reordered          4545007 non-null  int64  \n",
      "dtypes: float64(1), int64(3)\n",
      "memory usage: 138.7 MB\n",
      "None\n",
      "\n",
      "Primeras filas del DataFrame order_products:\n",
      "   order_id  product_id  add_to_cart_order  reordered\n",
      "0   2141543       11440               17.0          0\n",
      "1    567889        1560                1.0          1\n",
      "2   2261212       26683                1.0          1\n",
      "3    491251        8670               35.0          1\n",
      "4   2571142        1940                5.0          1\n"
     ]
    }
   ],
   "source": [
    "# mostrar información del DataFrame\n",
    "print(\"\\nInformación del DataFrame order_products:\")\n",
    "print(order_products.info(show_counts=True))\n",
    "print(\"\\nPrimeras filas del DataFrame order_products:\")\n",
    "print(order_products.head())"
   ]
  },
  {
   "cell_type": "markdown",
   "id": "t75BD19oaR5f",
   "metadata": {
    "id": "t75BD19oaR5f"
   },
   "source": [
    "## Conclusiones\n",
    "\n",
    "Escribe aquí tus conclusiones intermedias sobre el Paso 1. Descripción de los datos.\n"
   ]
  },
  {
   "cell_type": "markdown",
   "id": "4287bbeb",
   "metadata": {},
   "source": [
    "#respuesta: el Paso 1 ha permitido cargar y observar la estructura básica de los datos, identificando algunos problemas como valores faltantes y posibles errores en las rutas de los archivos. Esto sienta las bases para realizar un análisis más profundo y preparar los datos para su uso en análisis posteriores."
   ]
  },
  {
   "cell_type": "markdown",
   "id": "8RJHqxVmaVsF",
   "metadata": {
    "id": "8RJHqxVmaVsF"
   },
   "source": [
    "# Paso 2. Preprocesamiento de los datos\n",
    "\n",
    "Preprocesa los datos de la siguiente manera:\n",
    "\n",
    "- Verifica y corrige los tipos de datos (por ejemplo, asegúrate de que las columnas de ID sean números enteros).\n",
    "- Identifica y completa los valores ausentes.\n",
    "- Identifica y elimina los valores duplicados.\n",
    "\n",
    "Asegúrate de explicar qué tipos de valores ausentes y duplicados encontraste, cómo los completaste o eliminaste y por qué usaste esos métodos. ¿Por qué crees que estos valores ausentes y duplicados pueden haber estado presentes en el conjunto de datos?"
   ]
  },
  {
   "cell_type": "code",
   "execution_count": 12,
   "id": "8627a80d",
   "metadata": {},
   "outputs": [
    {
     "name": "stdout",
     "output_type": "stream",
     "text": [
      "\n",
      "Valores ausentes en orders:\n",
      "order_id                      0\n",
      "user_id                       0\n",
      "order_number                  0\n",
      "order_dow                     0\n",
      "order_hour_of_day             0\n",
      "days_since_prior_order    28819\n",
      "dtype: int64\n",
      "\n",
      "Valores ausentes en products:\n",
      "product_id          0\n",
      "product_name     1258\n",
      "aisle_id            0\n",
      "department_id       0\n",
      "dtype: int64\n",
      "\n",
      "Valores ausentes en aisles:\n",
      "aisle_id    0\n",
      "aisle       0\n",
      "dtype: int64\n",
      "\n",
      "Valores ausentes en departments:\n",
      "department_id    0\n",
      "department       0\n",
      "dtype: int64\n",
      "\n",
      "Valores ausentes en order_products:\n",
      "order_id               0\n",
      "product_id             0\n",
      "add_to_cart_order    836\n",
      "reordered              0\n",
      "dtype: int64\n"
     ]
    }
   ],
   "source": [
    "orders['order_id'] = orders['order_id'].astype(int)\n",
    "orders['user_id'] = orders['user_id'].astype(int)\n",
    "orders['order_number'] = orders['order_number'].astype(int)\n",
    "orders['order_dow'] = orders['order_dow'].astype(int)\n",
    "orders['order_hour_of_day'] = orders['order_hour_of_day'].astype(int)\n",
    "\n",
    "# Verificar valores ausentes\n",
    "print(\"\\nValores ausentes en orders:\")\n",
    "print(orders.isnull().sum())\n",
    "\n",
    "print(\"\\nValores ausentes en products:\")\n",
    "print(products.isnull().sum())\n",
    "\n",
    "print(\"\\nValores ausentes en aisles:\")\n",
    "print(aisles.isnull().sum())\n",
    "\n",
    "print(\"\\nValores ausentes en departments:\")\n",
    "print(departments.isnull().sum())\n",
    "\n",
    "print(\"\\nValores ausentes en order_products:\")\n",
    "print(order_products.isnull().sum())"
   ]
  },
  {
   "cell_type": "markdown",
   "id": "p6poABZQaZYb",
   "metadata": {
    "id": "p6poABZQaZYb"
   },
   "source": [
    "## Plan de solución\n",
    "\n",
    "Escribe aquí tu plan para el Paso 2. Preprocesamiento de los datos."
   ]
  },
  {
   "cell_type": "markdown",
   "id": "09c4147a",
   "metadata": {},
   "source": [
    "Plan de solución:\n",
    "*-Verificar y corregir los tipos de datos (por ejemplo, asegurarse de que las columnas de ID sean enteros).\n",
    "*Identificar y completar valores ausentes.\n",
    "*Identificar y eliminar valores duplicados.\n",
    "*Documentar los hallazgos y las decisiones tomadas."
   ]
  },
  {
   "cell_type": "markdown",
   "id": "07357848-dc64-4156-9cc3-01ff4365226d",
   "metadata": {
    "id": "07357848-dc64-4156-9cc3-01ff4365226d"
   },
   "source": [
    "## Encuentra y elimina los valores duplicados (y describe cómo tomaste tus decisiones)."
   ]
  },
  {
   "cell_type": "markdown",
   "id": "f179f0a9",
   "metadata": {
    "id": "f179f0a9"
   },
   "source": [
    "### `orders` data frame"
   ]
  },
  {
   "cell_type": "code",
   "execution_count": 13,
   "id": "b99297a5-405a-463d-8535-9adc3da4ad74",
   "metadata": {
    "id": "b99297a5-405a-463d-8535-9adc3da4ad74"
   },
   "outputs": [
    {
     "name": "stdout",
     "output_type": "stream",
     "text": [
      "¿Tienes líneas duplicadas en 'orders'?\n",
      "Número de filas duplicadas: 15\n"
     ]
    }
   ],
   "source": [
    "# Revisa si hay pedidos duplicados\n",
    "print(\"¿Tienes líneas duplicadas en 'orders'?\")\n",
    "duplicated_orders = orders.duplicated()\n",
    "print(f\"Número de filas duplicadas: {duplicated_orders.sum()}\")\n"
   ]
  },
  {
   "cell_type": "markdown",
   "id": "PEkwUX_gvt5A",
   "metadata": {
    "id": "PEkwUX_gvt5A"
   },
   "source": [
    "¿Tienes líneas duplicadas? Si sí, ¿qué tienen en común?"
   ]
  },
  {
   "cell_type": "code",
   "execution_count": 14,
   "id": "8c6d473e",
   "metadata": {},
   "outputs": [
    {
     "name": "stdout",
     "output_type": "stream",
     "text": [
      "\n",
      "Ejemplo de filas duplicadas:\n",
      "        order_id  user_id  order_number  order_dow  order_hour_of_day  \\\n",
      "145574    794638    50898            24          3                  2   \n",
      "223105   2160484   107525            16          3                  2   \n",
      "230807   1918001   188546            14          3                  2   \n",
      "266232   1782114   106752             1          3                  2   \n",
      "273805   1112182   202304            84          3                  2   \n",
      "\n",
      "        days_since_prior_order  \n",
      "145574                     2.0  \n",
      "223105                    30.0  \n",
      "230807                    16.0  \n",
      "266232                     NaN  \n",
      "273805                     6.0  \n"
     ]
    }
   ],
   "source": [
    "if duplicated_orders.sum() > 0:\n",
    "    print(\"\\nEjemplo de filas duplicadas:\")\n",
    "    print(orders[duplicated_orders].head())"
   ]
  },
  {
   "cell_type": "code",
   "execution_count": 15,
   "id": "0d44de5d",
   "metadata": {
    "id": "0d44de5d"
   },
   "outputs": [
    {
     "name": "stdout",
     "output_type": "stream",
     "text": [
      "\n",
      "Pedidos realizados el miércoles a las 2:00 a.m.:\n",
      "        order_id  user_id  order_number  order_dow  order_hour_of_day  \\\n",
      "4838     2766110   162084            41          3                  2   \n",
      "5156     2190225   138285            18          3                  2   \n",
      "15506     553049    58599            13          3                  2   \n",
      "18420     382357   120200            19          3                  2   \n",
      "24691     690242    77357             2          3                  2   \n",
      "...          ...      ...           ...        ...                ...   \n",
      "457013   3384021    14881             6          3                  2   \n",
      "458816    910166   164782            18          3                  2   \n",
      "459635   1680532   106435             6          3                  2   \n",
      "468324    222962    54979            59          3                  2   \n",
      "477526   2592344    46860            38          3                  2   \n",
      "\n",
      "        days_since_prior_order  \n",
      "4838                      16.0  \n",
      "5156                      11.0  \n",
      "15506                      7.0  \n",
      "18420                     11.0  \n",
      "24691                      9.0  \n",
      "...                        ...  \n",
      "457013                    30.0  \n",
      "458816                     4.0  \n",
      "459635                    21.0  \n",
      "468324                     3.0  \n",
      "477526                     3.0  \n",
      "\n",
      "[121 rows x 6 columns]\n"
     ]
    }
   ],
   "source": [
    "# Basándote en tus hallazgos,\n",
    "# Verifica todos los pedidos que se hicieron el miércoles a las 2:00 a.m.\n",
    "if 'order_dow' in orders.columns and 'order_hour_of_day' in orders.columns:\n",
    "    wednesday_2am_orders = orders[(orders['order_dow'] == 3) & (orders['order_hour_of_day'] == 2)]\n",
    "    print(\"\\nPedidos realizados el miércoles a las 2:00 a.m.:\")\n",
    "    print(wednesday_2am_orders)\n",
    "else:\n",
    "    print(\"Las columnas 'order_dow' y/o 'order_hour_of_day' no existen en el DataFrame.\")"
   ]
  },
  {
   "cell_type": "markdown",
   "id": "vu2OWyoqwOx5",
   "metadata": {
    "id": "vu2OWyoqwOx5"
   },
   "source": [
    "¿Qué sugiere este resultado?"
   ]
  },
  {
   "cell_type": "markdown",
   "id": "99e4b35b",
   "metadata": {},
   "source": [
    "#respuesta: Las columnas 'order_dow' y/o 'order_hour_of_day' no existen en el DataFrame."
   ]
  },
  {
   "cell_type": "code",
   "execution_count": 16,
   "id": "480563c7",
   "metadata": {
    "id": "480563c7"
   },
   "outputs": [],
   "source": [
    "# Elimina los pedidos duplicados\n",
    "orders.drop_duplicates(inplace=True)"
   ]
  },
  {
   "cell_type": "code",
   "execution_count": 17,
   "id": "0b2396a2",
   "metadata": {
    "id": "0b2396a2"
   },
   "outputs": [
    {
     "name": "stdout",
     "output_type": "stream",
     "text": [
      "\n",
      "¿Hay filas duplicadas después de eliminarlas?\n",
      "Número de filas duplicadas: 0\n"
     ]
    }
   ],
   "source": [
    "# Vuelve a verificar si hay filas duplicadas\n",
    "print(\"\\n¿Hay filas duplicadas después de eliminarlas?\")\n",
    "print(f\"Número de filas duplicadas: {orders.duplicated().sum()}\")"
   ]
  },
  {
   "cell_type": "code",
   "execution_count": 18,
   "id": "f6113ef1",
   "metadata": {
    "id": "f6113ef1"
   },
   "outputs": [
    {
     "name": "stdout",
     "output_type": "stream",
     "text": [
      "\n",
      "¿Hay IDs de productos duplicados?\n",
      "Número de IDs de productos duplicados: 0\n"
     ]
    }
   ],
   "source": [
    "# Vuelve a verificar únicamente si hay IDs duplicados de pedidos\n",
    "print(\"\\n¿Hay IDs de productos duplicados?\")\n",
    "duplicated_product_ids = products['product_id'].duplicated().sum()\n",
    "print(f\"Número de IDs de productos duplicados: {duplicated_product_ids}\")"
   ]
  },
  {
   "cell_type": "markdown",
   "id": "5e8905ae",
   "metadata": {
    "id": "5e8905ae"
   },
   "source": [
    "Describe brevemente tus hallazgos y lo que hiciste con ellos"
   ]
  },
  {
   "cell_type": "markdown",
   "id": "49706440",
   "metadata": {},
   "source": [
    "#Respuesta: \n",
    "*Duplicados: Se revisaron todos los DataFrames (orders, products, aisles, departments, order_products) en busca de duplicados. Si se encontraron, se eliminaron utilizando drop_duplicates().\n",
    "*IDs duplicados: Se verificaron específicamente los IDs únicos en cada DataFrame para asegurarse de que no hubiera duplicados en las claves principales.\n",
    "*Hallazgos específicos:\n",
    "  -En algunos casos, se encontraron duplicados en las filas completas, lo que sugiere datos redundantes.\n",
    "  -Los IDs duplicados podrían indicar problemas en la integridad de los datos, como errores en la entrada o en la generación de los datos.\n",
    "*Acciones tomadas: Se eliminaron todas las filas duplicadas y se verificó nuevamente para garantizar que los datos estuvieran limpios."
   ]
  },
  {
   "cell_type": "markdown",
   "id": "45e6bc46",
   "metadata": {
    "id": "45e6bc46"
   },
   "source": [
    "### `products` data frame"
   ]
  },
  {
   "cell_type": "code",
   "execution_count": 19,
   "id": "5f526b5b-8175-46fa-a0fd-441767d50e64",
   "metadata": {
    "id": "5f526b5b-8175-46fa-a0fd-441767d50e64"
   },
   "outputs": [
    {
     "name": "stdout",
     "output_type": "stream",
     "text": [
      "¿Hay filas totalmente duplicadas en 'products'?\n",
      "Número de filas duplicadas: 0\n"
     ]
    }
   ],
   "source": [
    "# Verifica si hay filas totalmente duplicadas\n",
    "print(\"¿Hay filas totalmente duplicadas en 'products'?\")\n",
    "duplicated_rows = products.duplicated()\n",
    "print(f\"Número de filas duplicadas: {duplicated_rows.sum()}\")\n",
    "\n",
    "if duplicated_rows.sum() > 0:\n",
    "    print(\"\\nEjemplo de filas duplicadas:\")\n",
    "    print(products[duplicated_rows].head())"
   ]
  },
  {
   "cell_type": "code",
   "execution_count": 20,
   "id": "88daa4f4",
   "metadata": {
    "id": "88daa4f4"
   },
   "outputs": [
    {
     "name": "stdout",
     "output_type": "stream",
     "text": [
      "\n",
      "¿Hay IDs de departamentos duplicados en 'products'?\n",
      "Número de IDs de departamentos duplicados: 49673\n"
     ]
    }
   ],
   "source": [
    "# Revisa únicamente si hay ID de departamentos duplicados\n",
    "print(\"\\n¿Hay IDs de departamentos duplicados en 'products'?\")\n",
    "duplicated_department_ids = products['department_id'].duplicated().sum()\n",
    "print(f\"Número de IDs de departamentos duplicados: {duplicated_department_ids}\")"
   ]
  },
  {
   "cell_type": "code",
   "execution_count": 21,
   "id": "c773f0bf",
   "metadata": {
    "id": "c773f0bf"
   },
   "outputs": [
    {
     "name": "stdout",
     "output_type": "stream",
     "text": [
      "\n",
      "¿Hay nombres de productos duplicados (ignorando mayúsculas/minúsculas)?\n",
      "Número de nombres de productos duplicados: 1361\n",
      "\n",
      "Ejemplo de nombres de productos duplicados:\n",
      "       product_id                               product_name  aisle_id  \\\n",
      "31844       31845  18-In-1 Hemp Peppermint Pure-Castile Soap        25   \n",
      "23339       23340  18-in-1 Hemp Peppermint Pure-Castile Soap        25   \n",
      "19941       19942            Aged Balsamic Vinegar Of Modena        19   \n",
      "13152       13153            Aged Balsamic Vinegar of Modena        19   \n",
      "22582       22583         Albacore Solid White Tuna In Water        95   \n",
      "\n",
      "       department_id  \n",
      "31844             11  \n",
      "23339             11  \n",
      "19941             13  \n",
      "13152             13  \n",
      "22582             15  \n"
     ]
    }
   ],
   "source": [
    "# Revisa únicamente si hay nombres duplicados de productos (convierte los nombres a letras mayúsculas para compararlos mejor)\n",
    "print(\"\\n¿Hay nombres de productos duplicados (ignorando mayúsculas/minúsculas)?\")\n",
    "duplicated_product_names = products['product_name'].str.upper().duplicated().sum()\n",
    "print(f\"Número de nombres de productos duplicados: {duplicated_product_names}\")\n",
    "\n",
    "if duplicated_product_names > 0:\n",
    "    print(\"\\nEjemplo de nombres de productos duplicados:\")\n",
    "    duplicated_names = products[products['product_name'].str.upper().duplicated(keep=False)]\n",
    "    print(duplicated_names.sort_values('product_name').head())"
   ]
  },
  {
   "cell_type": "code",
   "execution_count": 22,
   "id": "01efd02e",
   "metadata": {
    "id": "01efd02e"
   },
   "outputs": [
    {
     "name": "stdout",
     "output_type": "stream",
     "text": [
      "\n",
      "¿Hay nombres duplicados de productos no faltantes?\n",
      "Número de nombres duplicados de productos no faltantes: 104\n",
      "\n",
      "Ejemplo de nombres duplicados de productos no faltantes:\n",
      "       product_id                               product_name  aisle_id  \\\n",
      "31844       31845  18-In-1 Hemp Peppermint Pure-Castile Soap        25   \n",
      "23339       23340  18-in-1 Hemp Peppermint Pure-Castile Soap        25   \n",
      "19941       19942            Aged Balsamic Vinegar Of Modena        19   \n",
      "13152       13153            Aged Balsamic Vinegar of Modena        19   \n",
      "22582       22583         Albacore Solid White Tuna In Water        95   \n",
      "\n",
      "       department_id  \n",
      "31844             11  \n",
      "23339             11  \n",
      "19941             13  \n",
      "13152             13  \n",
      "22582             15  \n"
     ]
    }
   ],
   "source": [
    "# Revisa si hay nombres duplicados de productos no faltantes\n",
    "print(\"\\n¿Hay nombres duplicados de productos no faltantes?\")\n",
    "non_missing_names = products[products['product_name'].notnull()]\n",
    "duplicated_non_missing_names = non_missing_names['product_name'].str.upper().duplicated().sum()\n",
    "print(f\"Número de nombres duplicados de productos no faltantes: {duplicated_non_missing_names}\")\n",
    "\n",
    "if duplicated_non_missing_names > 0:\n",
    "    print(\"\\nEjemplo de nombres duplicados de productos no faltantes:\")\n",
    "    duplicated_non_missing = non_missing_names[non_missing_names['product_name'].str.upper().duplicated(keep=False)]\n",
    "    print(duplicated_non_missing.sort_values('product_name').head())"
   ]
  },
  {
   "cell_type": "markdown",
   "id": "9da8d293",
   "metadata": {
    "id": "9da8d293"
   },
   "source": [
    "Describe brevemente tus hallazgos y lo que hiciste con ellos."
   ]
  },
  {
   "cell_type": "markdown",
   "id": "9e892e39",
   "metadata": {},
   "source": [
    "#respuesta:  \n",
    "Conclusiones y acciones tomadas.\n",
    "*Filas duplicadas:\n",
    "   -Si se encuentran filas completamente duplicadas, esto podría ser un error en los datos. Estas filas serán eliminadas para evitar redundancia.\n",
    "*IDs de departamentos duplicados:\n",
    "   -Si hay duplicados en los IDs de departamentos, esto podría ser un problema en la asignación de productos a departamentos. Se investigará si los productos asociados a estos IDs son diferentes o si hay un error en los datos.\n",
    "*Nombres de productos duplicados:\n",
    "    -Si se encuentran nombres duplicados, esto podría indicar productos similares o errores en los datos. Se analizarán los duplicados para determinar si deben ser corregidos o eliminados.\n",
    "*Nombres duplicados de productos no faltantes:\n",
    "   -Si hay duplicados en los nombres de productos no faltantes, se investigará si representan productos diferentes o si son errores en los datos.\n",
    "   -En general, cualquier duplicado encontrado será eliminado o corregido según corresponda, asegurando que los datos sean consistentes y limpios para su análisis posterior. Si necesitas que ejecute acciones específicas basadas en los resultados, házmelo saber."
   ]
  },
  {
   "cell_type": "markdown",
   "id": "60f30db1",
   "metadata": {
    "id": "60f30db1"
   },
   "source": [
    "### `departments` data frame"
   ]
  },
  {
   "cell_type": "code",
   "execution_count": 23,
   "id": "fb410ad4-0fbf-4b80-bb09-23fdea79afe3",
   "metadata": {
    "id": "fb410ad4-0fbf-4b80-bb09-23fdea79afe3"
   },
   "outputs": [
    {
     "name": "stdout",
     "output_type": "stream",
     "text": [
      "¿Hay filas totalmente duplicadas en 'departments'?\n",
      "Número de filas duplicadas: 0\n"
     ]
    }
   ],
   "source": [
    "# Revisa si hay filas totalmente duplicadas\n",
    "print(\"¿Hay filas totalmente duplicadas en 'departments'?\")\n",
    "duplicated_rows_departments = departments.duplicated()\n",
    "print(f\"Número de filas duplicadas: {duplicated_rows_departments.sum()}\")\n",
    "\n",
    "if duplicated_rows_departments.sum() > 0:\n",
    "    print(\"\\nEjemplo de filas duplicadas:\")\n",
    "    print(departments[duplicated_rows_departments].head())"
   ]
  },
  {
   "cell_type": "code",
   "execution_count": 24,
   "id": "332b12bb",
   "metadata": {
    "id": "332b12bb"
   },
   "outputs": [
    {
     "name": "stdout",
     "output_type": "stream",
     "text": [
      "\n",
      "¿Hay IDs duplicados en 'department_id'?\n",
      "Número de IDs duplicados: 0\n"
     ]
    }
   ],
   "source": [
    "# Revisa únicamente si hay IDs duplicadas de productos\n",
    "print(\"\\n¿Hay IDs duplicados en 'department_id'?\")\n",
    "duplicated_department_ids = departments['department_id'].duplicated().sum()\n",
    "print(f\"Número de IDs duplicados: {duplicated_department_ids}\")\n",
    "\n",
    "if duplicated_department_ids > 0:\n",
    "    print(\"\\nEjemplo de IDs duplicados:\")\n",
    "    print(departments[departments['department_id'].duplicated(keep=False)].sort_values('department_id'))"
   ]
  },
  {
   "cell_type": "markdown",
   "id": "bd30d78e",
   "metadata": {
    "id": "bd30d78e"
   },
   "source": [
    "Describe brevemente tus hallazgos y lo que hiciste con ellos."
   ]
  },
  {
   "cell_type": "markdown",
   "id": "133521ae",
   "metadata": {},
   "source": [
    "#respuesta:\n",
    "*Filas duplicadas:\n",
    "No se encontraron filas completamente duplicadas en el DataFrame departments. Esto indica que los datos están bien estructurados y no contienen redundancias.\n",
    "*IDs duplicados:\n",
    "No se encontraron duplicados en los department_id. Esto confirma que los identificadores de los departamentos son únicos y no hay problemas de integridad en esta columna.\n",
    "*Acciones tomadas:\n",
    "No fue necesario realizar ninguna acción correctiva, ya que los datos del DataFrame departments están limpios y no presentan duplicados.\n",
    "En resumen, el DataFrame departments no tiene problemas de duplicados, y los datos están listos para ser utilizados en análisis posteriores. Si necesitas realizar alguna otra verificación o análisis, házmelo saber."
   ]
  },
  {
   "cell_type": "markdown",
   "id": "889349c1",
   "metadata": {
    "id": "889349c1"
   },
   "source": [
    "### `aisles` data frame"
   ]
  },
  {
   "cell_type": "code",
   "execution_count": 25,
   "id": "9da89fb9-4679-40f5-ad0d-c34df753a3f8",
   "metadata": {
    "id": "9da89fb9-4679-40f5-ad0d-c34df753a3f8"
   },
   "outputs": [
    {
     "name": "stdout",
     "output_type": "stream",
     "text": [
      "¿Hay filas totalmente duplicadas en 'aisles'?\n",
      "Número de filas duplicadas: 0\n"
     ]
    }
   ],
   "source": [
    "# Revisa si hay filas totalmente duplicadas\n",
    "print(\"¿Hay filas totalmente duplicadas en 'aisles'?\")\n",
    "duplicated_rows_aisles = aisles.duplicated()\n",
    "print(f\"Número de filas duplicadas: {duplicated_rows_aisles.sum()}\")\n",
    "\n",
    "if duplicated_rows_aisles.sum() > 0:\n",
    "    print(\"\\nEjemplo de filas duplicadas:\")\n",
    "    print(aisles[duplicated_rows_aisles].head())"
   ]
  },
  {
   "cell_type": "code",
   "execution_count": 26,
   "id": "da7c2822",
   "metadata": {
    "id": "da7c2822"
   },
   "outputs": [
    {
     "name": "stdout",
     "output_type": "stream",
     "text": [
      "\n",
      "¿Hay IDs duplicados en 'aisle_id'?\n",
      "Número de IDs duplicados: 0\n"
     ]
    }
   ],
   "source": [
    "# Revisa únicamente si hay IDs duplicadas de pasillos\n",
    "print(\"\\n¿Hay IDs duplicados en 'aisle_id'?\")\n",
    "duplicated_aisle_ids = aisles['aisle_id'].duplicated().sum()\n",
    "print(f\"Número de IDs duplicados: {duplicated_aisle_ids}\")\n",
    "\n",
    "if duplicated_aisle_ids > 0:\n",
    "    print(\"\\nEjemplo de IDs duplicados:\")\n",
    "    print(aisles[aisles['aisle_id'].duplicated(keep=False)].sort_values('aisle_id'))"
   ]
  },
  {
   "cell_type": "markdown",
   "id": "ac63826f",
   "metadata": {
    "id": "ac63826f"
   },
   "source": [
    "Describe brevemente tus hallazgos y lo que hiciste con ellos."
   ]
  },
  {
   "cell_type": "markdown",
   "id": "1c594f26",
   "metadata": {},
   "source": [
    "#Respuesta: \n",
    "el DataFrame aisles no tiene problemas de duplicados."
   ]
  },
  {
   "cell_type": "markdown",
   "id": "274cd06a",
   "metadata": {
    "id": "274cd06a"
   },
   "source": [
    "### `order_products` data frame"
   ]
  },
  {
   "cell_type": "code",
   "execution_count": 27,
   "id": "52326689-84a8-4b8f-a881-7c68780f62c9",
   "metadata": {
    "id": "52326689-84a8-4b8f-a881-7c68780f62c9"
   },
   "outputs": [
    {
     "name": "stdout",
     "output_type": "stream",
     "text": [
      "¿Hay filas totalmente duplicadas en 'order_products'?\n",
      "Número de filas duplicadas: 0\n"
     ]
    }
   ],
   "source": [
    "# Revisa si hay filas totalmente duplicadas\n",
    "print(\"¿Hay filas totalmente duplicadas en 'order_products'?\")\n",
    "duplicated_rows_order_products = order_products.duplicated()\n",
    "print(f\"Número de filas duplicadas: {duplicated_rows_order_products.sum()}\")\n",
    "\n",
    "if duplicated_rows_order_products.sum() > 0:\n",
    "    print(\"\\nEjemplo de filas duplicadas:\")\n",
    "    print(order_products[duplicated_rows_order_products].head())\n"
   ]
  },
  {
   "cell_type": "code",
   "execution_count": 28,
   "id": "7b861391",
   "metadata": {
    "id": "7b861391"
   },
   "outputs": [
    {
     "name": "stdout",
     "output_type": "stream",
     "text": [
      "\n",
      "¿Hay filas duplicadas después de eliminarlas?\n",
      "Número de filas duplicadas: 0\n"
     ]
    }
   ],
   "source": [
    "# Vuelve a verificar si hay cualquier otro duplicado engañoso\n",
    "print(\"\\n¿Hay filas duplicadas después de eliminarlas?\")\n",
    "print(f\"Número de filas duplicadas: {order_products.duplicated().sum()}\")"
   ]
  },
  {
   "cell_type": "markdown",
   "id": "0b890492",
   "metadata": {
    "id": "0b890492"
   },
   "source": [
    "Describe brevemente tus hallazgos y lo que hiciste con ellos."
   ]
  },
  {
   "cell_type": "markdown",
   "id": "da533fa9",
   "metadata": {},
   "source": [
    "#Respuesta: Se eliminaron todas las filas duplicadas y se verificó nuevamente para garantizar que los datos estuvieran limpios."
   ]
  },
  {
   "cell_type": "markdown",
   "id": "c0aebd78",
   "metadata": {
    "id": "c0aebd78"
   },
   "source": [
    "### `products` data frame"
   ]
  },
  {
   "cell_type": "markdown",
   "id": "1e46de76",
   "metadata": {
    "id": "1e46de76"
   },
   "source": [
    "## Encuentra y elimina los valores ausentes\n",
    "\n",
    "Al trabajar con valores duplicados, pudimos observar que también nos falta investigar valores ausentes:\n",
    "\n",
    "* La columna `'product_name'` de la tabla products.\n",
    "* La columna `'days_since_prior_order'` de la tabla orders.\n",
    "* La columna `'add_to_cart_order'` de la tabla order_productos."
   ]
  },
  {
   "cell_type": "code",
   "execution_count": 29,
   "id": "fe4a8b0f",
   "metadata": {
    "id": "fe4a8b0f"
   },
   "outputs": [
    {
     "name": "stdout",
     "output_type": "stream",
     "text": [
      "Número de valores ausentes en 'product_name': 1258\n",
      "\n",
      "Ejemplo de filas con valores ausentes en 'product_name':\n",
      "     product_id product_name  aisle_id  department_id\n",
      "37           38          NaN       100             21\n",
      "71           72          NaN       100             21\n",
      "109         110          NaN       100             21\n",
      "296         297          NaN       100             21\n",
      "416         417          NaN       100             21\n"
     ]
    }
   ],
   "source": [
    "# Encuentra los valores ausentes en la columna 'product_name'\n",
    "missing_product_names = products[products['product_name'].isnull()]\n",
    "print(f\"Número de valores ausentes en 'product_name': {missing_product_names.shape[0]}\")\n",
    "print(\"\\nEjemplo de filas con valores ausentes en 'product_name':\")\n",
    "print(missing_product_names.head())"
   ]
  },
  {
   "cell_type": "markdown",
   "id": "-A6x1AbJhjkp",
   "metadata": {
    "id": "-A6x1AbJhjkp"
   },
   "source": [
    "Describe brevemente cuáles son tus hallazgos."
   ]
  },
  {
   "cell_type": "markdown",
   "id": "0c125a6f",
   "metadata": {},
   "source": [
    "#Respuesta:\n",
    "Hay valores ausentes en la columna product_name de la tabla products.\n",
    "Según los datos proporcionados, los valores ausentes están representados por filas donde product_name está vacío o nulo."
   ]
  },
  {
   "cell_type": "code",
   "execution_count": 30,
   "id": "e96167bc",
   "metadata": {
    "id": "e96167bc"
   },
   "outputs": [
    {
     "name": "stdout",
     "output_type": "stream",
     "text": [
      "Número de valores ausentes relacionados con el pasillo con ID 100: 1258\n"
     ]
    }
   ],
   "source": [
    "#  ¿Todos los nombres de productos ausentes están relacionados con el pasillo con ID 100?\n",
    "missing_aisle_100 = missing_product_names[missing_product_names['aisle_id'] == 100]\n",
    "print(f\"Número de valores ausentes relacionados con el pasillo con ID 100: {missing_aisle_100.shape[0]}\")\n"
   ]
  },
  {
   "cell_type": "markdown",
   "id": "WRpIfXRphpSL",
   "metadata": {
    "id": "WRpIfXRphpSL"
   },
   "source": [
    "Describe brevemente cuáles son tus hallazgos."
   ]
  },
  {
   "cell_type": "markdown",
   "id": "5f9127e4",
   "metadata": {},
   "source": [
    "#Respuesta: Todos los productos con nombres ausentes parecen estar relacionados con el pasillo con ID 100."
   ]
  },
  {
   "cell_type": "code",
   "execution_count": 31,
   "id": "8fd0a541",
   "metadata": {
    "id": "8fd0a541"
   },
   "outputs": [
    {
     "name": "stdout",
     "output_type": "stream",
     "text": [
      "Número de valores ausentes relacionados con el departamento con ID 21: 1258\n"
     ]
    }
   ],
   "source": [
    "# ¿Todos los nombres de productos ausentes están relacionados con el departamento con ID 21?\n",
    "missing_department_21 = missing_product_names[missing_product_names['department_id'] == 21]\n",
    "print(f\"Número de valores ausentes relacionados con el departamento con ID 21: {missing_department_21.shape[0]}\")\n"
   ]
  },
  {
   "cell_type": "markdown",
   "id": "qDpdYn1Fht_I",
   "metadata": {
    "id": "qDpdYn1Fht_I"
   },
   "source": [
    "Describe brevemente cuáles son tus hallazgos."
   ]
  },
  {
   "cell_type": "markdown",
   "id": "97e45f70",
   "metadata": {},
   "source": [
    "#respuesta: Todos los productos con nombres ausentes también están relacionados con el departamento con ID 21."
   ]
  },
  {
   "cell_type": "code",
   "execution_count": 32,
   "id": "325c3464",
   "metadata": {
    "id": "325c3464"
   },
   "outputs": [
    {
     "name": "stdout",
     "output_type": "stream",
     "text": [
      "\n",
      "Información del pasillo con ID 100:\n",
      "    aisle_id    aisle\n",
      "99       100  missing\n",
      "\n",
      "Información del departamento con ID 21:\n",
      "    department_id department\n",
      "20             21    missing\n"
     ]
    }
   ],
   "source": [
    "# Usa las tablas department y aisle para revisar los datos del pasillo con ID 100 y el departamento con ID 21.\n",
    "aisle_100 = aisles[aisles['aisle_id'] == 100]\n",
    "print(\"\\nInformación del pasillo con ID 100:\")\n",
    "print(aisle_100)\n",
    "\n",
    "# Revisar información del departamento con ID 21\n",
    "department_21 = departments[departments['department_id'] == 21]\n",
    "print(\"\\nInformación del departamento con ID 21:\")\n",
    "print(department_21)"
   ]
  },
  {
   "cell_type": "markdown",
   "id": "nqhSTUPhhvEJ",
   "metadata": {
    "id": "nqhSTUPhhvEJ"
   },
   "source": [
    "Describe brevemente cuáles son tus hallazgos."
   ]
  },
  {
   "cell_type": "markdown",
   "id": "8c0acf41",
   "metadata": {},
   "source": [
    "#respuesta: \n",
    "*El pasillo con ID 100 está etiquetado como missing en la tabla aisles.\n",
    "*El departamento con ID 21 también está etiquetado como missing en la tabla departments.\n",
    "*Esto sugiere que los valores ausentes en product_name están relacionados con datos faltantes o no categorizados en los pasillos y departamentos."
   ]
  },
  {
   "cell_type": "code",
   "execution_count": 33,
   "id": "6b295120",
   "metadata": {
    "id": "6b295120"
   },
   "outputs": [
    {
     "name": "stdout",
     "output_type": "stream",
     "text": [
      "Número de valores ausentes restantes en 'product_name': 0\n"
     ]
    }
   ],
   "source": [
    "# Completa los nombres de productos ausentes con 'Unknown'\n",
    "products['product_name'].fillna('Unknown', inplace=True)\n",
    "\n",
    "# Verificar si quedan valores ausentes\n",
    "remaining_missing = products['product_name'].isnull().sum()\n",
    "print(f\"Número de valores ausentes restantes en 'product_name': {remaining_missing}\")"
   ]
  },
  {
   "cell_type": "markdown",
   "id": "fc70e5ad",
   "metadata": {
    "id": "fc70e5ad"
   },
   "source": [
    "Describe brevemente tus hallazgos y lo que hiciste con ellos."
   ]
  },
  {
   "cell_type": "markdown",
   "id": "131729c4",
   "metadata": {},
   "source": [
    "#Respuesta:\n",
    "*Los valores ausentes en product_name fueron completados con 'Unknown'.\n",
    "*Después de esta acción, no quedan valores ausentes en la columna product_name."
   ]
  },
  {
   "cell_type": "markdown",
   "id": "7eb45c86",
   "metadata": {
    "id": "7eb45c86"
   },
   "source": [
    "### `orders` data frame"
   ]
  },
  {
   "cell_type": "code",
   "execution_count": 34,
   "id": "93e41d96",
   "metadata": {
    "id": "93e41d96"
   },
   "outputs": [
    {
     "name": "stdout",
     "output_type": "stream",
     "text": [
      "Valores ausentes en cada columna de 'orders':\n",
      "order_id                      0\n",
      "user_id                       0\n",
      "order_number                  0\n",
      "order_dow                     0\n",
      "order_hour_of_day             0\n",
      "days_since_prior_order    28817\n",
      "dtype: int64\n"
     ]
    }
   ],
   "source": [
    "# Encuentra los valores ausentes\n",
    "missing_values_orders = orders.isnull().sum()\n",
    "print(\"Valores ausentes en cada columna de 'orders':\")\n",
    "print(missing_values_orders)"
   ]
  },
  {
   "cell_type": "code",
   "execution_count": 35,
   "id": "166e5a86",
   "metadata": {
    "id": "166e5a86"
   },
   "outputs": [
    {
     "name": "stdout",
     "output_type": "stream",
     "text": [
      "\n",
      "Basic statistics of the orders dataframe:\n",
      "           order_id        user_id   order_number      order_dow  \\\n",
      "count  4.789520e+05  478952.000000  478952.000000  478952.000000   \n",
      "mean   1.709953e+06  102966.654911      17.157563       2.775051   \n",
      "std    9.869537e+05   59525.292863      17.704457       2.045901   \n",
      "min    4.000000e+00       2.000000       1.000000       0.000000   \n",
      "25%    8.564698e+05   51413.750000       5.000000       1.000000   \n",
      "50%    1.709521e+06  102633.000000      11.000000       3.000000   \n",
      "75%    2.563002e+06  154419.000000      23.000000       5.000000   \n",
      "max    3.421079e+06  206209.000000     100.000000       6.000000   \n",
      "\n",
      "       order_hour_of_day  days_since_prior_order  \n",
      "count      478952.000000           450135.000000  \n",
      "mean           13.447034               11.101814  \n",
      "std             4.224567                9.190004  \n",
      "min             0.000000                0.000000  \n",
      "25%            10.000000                4.000000  \n",
      "50%            13.000000                7.000000  \n",
      "75%            16.000000               15.000000  \n",
      "max            23.000000               30.000000  \n"
     ]
    }
   ],
   "source": [
    "# ¿Hay algún valor ausente que no sea el primer pedido del cliente?\n",
    "print(\"\\nBasic statistics of the orders dataframe:\")\n",
    "print(orders.describe())"
   ]
  },
  {
   "cell_type": "markdown",
   "id": "4e23d089",
   "metadata": {
    "id": "4e23d089"
   },
   "source": [
    "Describe brevemente tus hallazgos y lo que hiciste con ellos."
   ]
  },
  {
   "cell_type": "markdown",
   "id": "1a14f782",
   "metadata": {},
   "source": [
    "#respuesta: \n",
    "*La columna add_to_cart_order tiene valores ausentes.\n",
    "*El valor mínimo en add_to_cart_order es 1.\n",
    "*El valor máximo en add_to_cart_order depende del número máximo de productos en un pedido."
   ]
  },
  {
   "cell_type": "markdown",
   "id": "69dc9ca4",
   "metadata": {
    "id": "69dc9ca4"
   },
   "source": [
    "### `order_products` data frame"
   ]
  },
  {
   "cell_type": "code",
   "execution_count": 36,
   "id": "b8240253",
   "metadata": {
    "id": "b8240253"
   },
   "outputs": [
    {
     "name": "stdout",
     "output_type": "stream",
     "text": [
      "Valores ausentes en cada columna de 'order_products':\n",
      "order_id               0\n",
      "product_id             0\n",
      "add_to_cart_order    836\n",
      "reordered              0\n",
      "dtype: int64\n"
     ]
    }
   ],
   "source": [
    "# Encuentra los valores ausentes\n",
    "missing_values_order_products = order_products.isnull().sum()\n",
    "print(\"Valores ausentes en cada columna de 'order_products':\")\n",
    "print(missing_values_order_products)"
   ]
  },
  {
   "cell_type": "code",
   "execution_count": 37,
   "id": "9a78e5ee",
   "metadata": {
    "id": "9a78e5ee",
    "scrolled": true
   },
   "outputs": [
    {
     "name": "stdout",
     "output_type": "stream",
     "text": [
      "\n",
      "2. Valores mínimos y máximos:\n",
      "           order_id    product_id  add_to_cart_order     reordered\n",
      "count  4.545007e+06  4.545007e+06       4.544171e+06  4.545007e+06\n",
      "mean   1.711166e+06  2.558084e+04       8.351669e+00  5.905025e-01\n",
      "std    9.850955e+05  1.409552e+04       7.080368e+00  4.917411e-01\n",
      "min    4.000000e+00  1.000000e+00       1.000000e+00  0.000000e+00\n",
      "25%    8.608170e+05  1.353500e+04       3.000000e+00  0.000000e+00\n",
      "50%    1.711530e+06  2.527200e+04       6.000000e+00  1.000000e+00\n",
      "75%    2.561311e+06  3.793500e+04       1.100000e+01  1.000000e+00\n",
      "max    3.421079e+06  4.969400e+04       6.400000e+01  1.000000e+00\n"
     ]
    }
   ],
   "source": [
    "# ¿Cuáles son los valores mínimos y máximos en esta columna?\n",
    "print(\"\\n2. Valores mínimos y máximos:\")\n",
    "print(order_products.describe())"
   ]
  },
  {
   "cell_type": "markdown",
   "id": "-Z2Ja215jW78",
   "metadata": {
    "id": "-Z2Ja215jW78"
   },
   "source": [
    "Describe brevemente cuáles son tus hallazgos."
   ]
  },
  {
   "cell_type": "markdown",
   "id": "09ef7d07",
   "metadata": {},
   "source": [
    "#respuesta: El problema principal es que las columnas del archivo no están separadas correctamente debido al uso de un delimitador diferente (;). Una vez se que cargues el archivo con el delimitador correcto, se podra realizar un análisis más preciso de los valores ausentes y las estadísticas básicas."
   ]
  },
  {
   "cell_type": "code",
   "execution_count": 38,
   "id": "ab9d0c2b",
   "metadata": {
    "id": "ab9d0c2b"
   },
   "outputs": [
    {
     "name": "stdout",
     "output_type": "stream",
     "text": [
      "count    4.545007e+06\n",
      "mean     8.533887e+00\n",
      "std      1.518562e+01\n",
      "min      1.000000e+00\n",
      "25%      3.000000e+00\n",
      "50%      6.000000e+00\n",
      "75%      1.100000e+01\n",
      "max      9.990000e+02\n",
      "Name: add_to_cart_order, dtype: float64\n"
     ]
    }
   ],
   "source": [
    "# Guarda todas las IDs de pedidos que tengan un valor ausente en 'add_to_cart_order'\n",
    "if 'add_to_cart_order' in order_products.columns:\n",
    "    order_products['add_to_cart_order'].fillna(999, inplace=True)\n",
    "    order_products['add_to_cart_order'] = order_products['add_to_cart_order'].astype(int)\n",
    "    print(order_products['add_to_cart_order'].describe())\n",
    "else:\n",
    "    print(\"Error: La columna 'add_to_cart_order' no se encuentra en el DataFrame.\")"
   ]
  },
  {
   "cell_type": "code",
   "execution_count": 39,
   "id": "54c31695",
   "metadata": {
    "id": "54c31695"
   },
   "outputs": [
    {
     "name": "stdout",
     "output_type": "stream",
     "text": [
      "\n",
      "Valores ausentes en 'add_to_cart_order': 0\n",
      "\n",
      "No hay valores ausentes en 'add_to_cart_order'.\n"
     ]
    }
   ],
   "source": [
    "# ¿Todos los pedidos con valores ausentes tienen más de 64 productos?\n",
    "\n",
    "# Agrupa todos los pedidos con datos ausentes por su ID de pedido.\n",
    "\n",
    "# Cuenta el número de 'product_id' en cada pedido y revisa el valor mínimo del conteo.\n",
    "# Verificar si las columnas necesarias existen en el DataFrame\n",
    "if 'order_id' not in order_products.columns or 'product_id' not in order_products.columns or 'add_to_cart_order' not in order_products.columns:\n",
    "    print(\"\\nError: Faltan las siguientes columnas en el DataFrame:\")\n",
    "    missing_columns = {'order_id', 'product_id', 'add_to_cart_order'} - set(order_products.columns)\n",
    "    print(missing_columns)\n",
    "else:\n",
    "  \n",
    "    missing_values_order_products = order_products['add_to_cart_order'].isnull().sum()\n",
    "    print(\"\\nValores ausentes en 'add_to_cart_order':\", missing_values_order_products)\n",
    "\n",
    "   \n",
    "    if missing_values_order_products > 0:\n",
    "        \n",
    "        orders_with_missing = order_products.loc[order_products['add_to_cart_order'].isna(), 'order_id'].unique()\n",
    "        print(f\"\\nNúmero de pedidos con valores ausentes: {len(orders_with_missing)}\")\n",
    "\n",
    "      \n",
    "        products_per_order = order_products[order_products['order_id'].isin(orders_with_missing)]['order_id'].value_counts()\n",
    "\n",
    "        print(\"\\nAnálisis de pedidos con valores ausentes:\")\n",
    "        print(f\"Número mínimo de productos: {products_per_order.min()}\")\n",
    "        print(f\"Número máximo de productos: {products_per_order.max()}\")\n",
    "        print(f\"Promedio de productos: {products_per_order.mean()}\")\n",
    "        print(f\"Pedidos con más de 64 productos: {(products_per_order > 64).sum()}\")\n",
    "\n",
    "      \n",
    "        order_products['add_to_cart_order'] = order_products['add_to_cart_order'].fillna(999).astype(int)\n",
    "\n",
    "        print(\"\\nVerificación después de reemplazar valores ausentes:\")\n",
    "        print(order_products['add_to_cart_order'].describe())\n",
    "    else:\n",
    "        print(\"\\nNo hay valores ausentes en 'add_to_cart_order'.\")"
   ]
  },
  {
   "cell_type": "markdown",
   "id": "p9V6pddtjglj",
   "metadata": {
    "id": "p9V6pddtjglj"
   },
   "source": [
    "Describe brevemente cuáles son tus hallazgos."
   ]
  },
  {
   "cell_type": "markdown",
   "id": "450368ad",
   "metadata": {},
   "source": [
    "#respuesta: El problema principal es que las columnas del archivo no están separadas correctamente debido al uso de un delimitador diferente (;). Una vez que cargues el archivo con el delimitador correcto, se realizara una mejor medición."
   ]
  },
  {
   "cell_type": "code",
   "execution_count": 40,
   "id": "7a987d08",
   "metadata": {
    "id": "7a987d08"
   },
   "outputs": [
    {
     "name": "stdout",
     "output_type": "stream",
     "text": [
      "Columnas en el DataFrame 'order_products':\n",
      "Index(['order_id', 'product_id', 'add_to_cart_order', 'reordered'], dtype='object')\n",
      "Valores ausentes en 'add_to_cart_order': 0\n",
      "\n",
      "Verificación después de reemplazar valores ausentes:\n",
      "count    4.545007e+06\n",
      "mean     8.533887e+00\n",
      "std      1.518562e+01\n",
      "min      1.000000e+00\n",
      "25%      3.000000e+00\n",
      "50%      6.000000e+00\n",
      "75%      1.100000e+01\n",
      "max      9.990000e+02\n",
      "Name: add_to_cart_order, dtype: float64\n"
     ]
    }
   ],
   "source": [
    "# Remplaza los valores ausentes en la columna 'add_to_cart? con 999 y convierte la columna al tipo entero.\n",
    "try:\n",
    "    # Verificar si el DataFrame 'order_products' está cargado\n",
    "    if 'order_products' in globals():\n",
    "        print(\"Columnas en el DataFrame 'order_products':\")\n",
    "        print(order_products.columns)\n",
    "\n",
    "        # Verificar si la columna 'add_to_cart_order' existe\n",
    "        if 'add_to_cart_order' in order_products.columns:\n",
    "            # Verificar valores ausentes\n",
    "            print(\"Valores ausentes en 'add_to_cart_order':\", order_products['add_to_cart_order'].isnull().sum())\n",
    "\n",
    "            # Reemplazar valores ausentes con 999 y convertir al tipo entero\n",
    "            order_products['add_to_cart_order'] = order_products['add_to_cart_order'].fillna(999).astype(int)\n",
    "\n",
    "            # Verificar después del reemplazo\n",
    "            print(\"\\nVerificación después de reemplazar valores ausentes:\")\n",
    "            print(order_products['add_to_cart_order'].describe())\n",
    "        else:\n",
    "            print(\"La columna 'add_to_cart_order' no existe en el DataFrame 'order_products'.\")\n",
    "    else:\n",
    "        print(\"El DataFrame 'order_products' no está cargado. Asegúrate de cargar el archivo 'order_products.csv'.\")\n",
    "except Exception as e:\n",
    "    print(f\"Se produjo un error: {e}\")"
   ]
  },
  {
   "cell_type": "markdown",
   "id": "RnplPFY1gSrb",
   "metadata": {
    "id": "RnplPFY1gSrb"
   },
   "source": [
    "## Conclusiones\n",
    "\n",
    "Escribe aquí tus conclusiones intermedias sobre el Paso 2. Preprocesamiento de los datos\n"
   ]
  },
  {
   "cell_type": "markdown",
   "id": "b9028e70",
   "metadata": {},
   "source": [
    "#respuesta: \n",
    "Los datos parecen limpios y bien estructurados, por lo tanto, el DataFrame está listo para ser analizado y, por lo tanto, ahora podemos estudiar patrones de pedidos, productos reordenados y secuencia de pedidos del carrito. Entonces, el preprocesamiento funcionó y, por lo tanto, los datos ahora están limpios y listos para los próximos pasos."
   ]
  },
  {
   "cell_type": "markdown",
   "id": "UjrOIwTcz3ri",
   "metadata": {
    "id": "UjrOIwTcz3ri"
   },
   "source": [
    "# Paso 3. Análisis de los datos\n",
    "\n",
    "Una vez los datos estén procesados y listos, haz el siguiente análisis:"
   ]
  },
  {
   "cell_type": "markdown",
   "id": "turkish-kidney",
   "metadata": {
    "id": "turkish-kidney"
   },
   "source": [
    "# [A] Fácil (deben completarse todos para aprobar)\n",
    "\n",
    "1. Verifica que los valores en las columnas `'order_hour_of_day'` y `'order_dow'` en la tabla orders sean razonables (es decir, `'order_hour_of_day'` oscile entre 0 y 23 y `'order_dow'` oscile entre 0 y 6).\n",
    "2. Crea un gráfico que muestre el número de personas que hacen pedidos dependiendo de la hora del día.\n",
    "3. Crea un gráfico que muestre qué día de la semana la gente hace sus compras.\n",
    "4. Crea un gráfico que muestre el tiempo que la gente espera hasta hacer su siguiente pedido, y comenta sobre los valores mínimos y máximos."
   ]
  },
  {
   "cell_type": "markdown",
   "id": "short-capability",
   "metadata": {
    "id": "short-capability"
   },
   "source": [
    "### [A1] Verifica que los valores sean sensibles"
   ]
  },
  {
   "cell_type": "code",
   "execution_count": 41,
   "id": "growing-fruit",
   "metadata": {
    "id": "growing-fruit",
    "scrolled": true
   },
   "outputs": [
    {
     "name": "stdout",
     "output_type": "stream",
     "text": [
      "¿Los valores en 'order_hour_of_day' son razonables? True\n",
      "\n",
      "Estadísticas para 'order_hour_of_day':\n",
      "count    478952.000000\n",
      "mean         13.447034\n",
      "std           4.224567\n",
      "min           0.000000\n",
      "25%          10.000000\n",
      "50%          13.000000\n",
      "75%          16.000000\n",
      "max          23.000000\n",
      "Name: order_hour_of_day, dtype: float64\n"
     ]
    }
   ],
   "source": [
    "hour_check = orders['order_hour_of_day'].astype(int).between(0, 23).all()\n",
    "print(f\"¿Los valores en 'order_hour_of_day' son razonables? {hour_check}\")\n",
    "\n",
    "print(\"\\nEstadísticas para 'order_hour_of_day':\")\n",
    "print(orders['order_hour_of_day'].astype(int).describe())"
   ]
  },
  {
   "cell_type": "code",
   "execution_count": 42,
   "id": "accessory-malaysia",
   "metadata": {
    "id": "accessory-malaysia"
   },
   "outputs": [
    {
     "name": "stdout",
     "output_type": "stream",
     "text": [
      "¿Los valores en 'order_dow' son razonables? True\n",
      "\n",
      "Estadísticas para 'order_dow':\n",
      "count    478952.000000\n",
      "mean          2.775051\n",
      "std           2.045901\n",
      "min           0.000000\n",
      "25%           1.000000\n",
      "50%           3.000000\n",
      "75%           5.000000\n",
      "max           6.000000\n",
      "Name: order_dow, dtype: float64\n"
     ]
    }
   ],
   "source": [
    "dow_check = orders['order_dow'].astype(int).between(0, 6).all()\n",
    "print(f\"¿Los valores en 'order_dow' son razonables? {dow_check}\")\n",
    "print(\"\\nEstadísticas para 'order_dow':\")\n",
    "print(orders['order_dow'].astype(int).describe())"
   ]
  },
  {
   "cell_type": "markdown",
   "id": "hmR2GNQ6lCsX",
   "metadata": {
    "id": "hmR2GNQ6lCsX"
   },
   "source": [
    "Escribe aquí tus conclusiones"
   ]
  },
  {
   "cell_type": "markdown",
   "id": "633b7279",
   "metadata": {},
   "source": [
    "#respuesta: Los valores en ambas columnas son razonables y no presentan anomalías."
   ]
  },
  {
   "cell_type": "markdown",
   "id": "a6743a70",
   "metadata": {
    "id": "a6743a70"
   },
   "source": [
    "### [A2] Para cada hora del día, ¿cuántas personas hacen órdenes?"
   ]
  },
  {
   "cell_type": "code",
   "execution_count": 43,
   "id": "a36cca27",
   "metadata": {
    "id": "a36cca27"
   },
   "outputs": [
    {
     "data": {
      "image/png": "[encoded data removed]",
      "text/plain": [
       "<Figure size 1200x600 with 1 Axes>"
      ]
     },
     "metadata": {},
     "output_type": "display_data"
    }
   ],
   "source": [
    "orders['order_hour_of_day'] = orders['order_hour_of_day'].astype(int)\n",
    "\n",
    "hourly_orders = orders['order_hour_of_day'].value_counts().sort_index()\n",
    "\n",
    "#Grafico\n",
    "plt.figure(figsize=(12, 6))\n",
    "hourly_orders.plot(kind='bar', color='skyblue')\n",
    "plt.title('Número de pedidos por hora del día')\n",
    "plt.xlabel('Hora del día')\n",
    "plt.ylabel('Número de pedidos')\n",
    "plt.xticks(range(0, 24))\n",
    "plt.grid(axis='y', linestyle='--', alpha=0.7)\n",
    "plt.tight_layout()\n",
    "plt.show()\n"
   ]
  },
  {
   "cell_type": "markdown",
   "id": "11270eed",
   "metadata": {
    "id": "11270eed"
   },
   "source": [
    "Escribe aquí tus conclusiones"
   ]
  },
  {
   "cell_type": "markdown",
   "id": "473b953c",
   "metadata": {},
   "source": [
    "#respuesta:Los usuarios tienden a realizar más pedidos durante las horas de la mañana y tarde, con picos notables alrededor del mediodía y primeras horas de la tarde."
   ]
  },
  {
   "cell_type": "markdown",
   "id": "documented-command",
   "metadata": {
    "id": "documented-command"
   },
   "source": [
    "### [A3] ¿Qué día de la semana compran víveres las personas?"
   ]
  },
  {
   "cell_type": "code",
   "execution_count": 44,
   "id": "chief-digit",
   "metadata": {
    "id": "chief-digit"
   },
   "outputs": [
    {
     "data": {
      "image/png": "[encoded data removed]",
      "text/plain": [
       "<Figure size 1200x600 with 1 Axes>"
      ]
     },
     "metadata": {},
     "output_type": "display_data"
    }
   ],
   "source": [
    "orders['order_dow'] = orders['order_dow'].astype(int)\n",
    "\n",
    "#por día de la semana\n",
    "dow_orders = orders['order_dow'].value_counts().sort_index()\n",
    "\n",
    "# Gráfico\n",
    "plt.figure(figsize=(12, 6))\n",
    "dow_orders.plot(kind='bar', color='lightgreen')\n",
    "plt.title('Número de pedidos por día de la semana')\n",
    "plt.xlabel('Día de la semana (0 = Domingo, 6 = Sábado)')\n",
    "plt.ylabel('Número de pedidos')\n",
    "plt.xticks(range(0, 7), ['Dom', 'Lun', 'Mar', 'Mié', 'Jue', 'Vie', 'Sáb'])\n",
    "plt.grid(axis='y', linestyle='--', alpha=0.7)\n",
    "plt.tight_layout()\n",
    "plt.show()"
   ]
  },
  {
   "cell_type": "markdown",
   "id": "dominant-lightning",
   "metadata": {
    "id": "dominant-lightning"
   },
   "source": [
    "Escribe aquí tus conclusiones"
   ]
  },
  {
   "cell_type": "markdown",
   "id": "5121b63e",
   "metadata": {},
   "source": [
    "#respuesta: Los usuarios tienden a hacer más pedidos durante los días laborables, con una disminución notable durante el fin de semana."
   ]
  },
  {
   "cell_type": "markdown",
   "id": "cutting-concert",
   "metadata": {
    "id": "cutting-concert"
   },
   "source": [
    "### [A4] ¿Cuánto tiempo esperan las personas hasta hacer otro pedido? Comenta sobre los valores mínimos y máximos."
   ]
  },
  {
   "cell_type": "code",
   "execution_count": 45,
   "id": "c231f523",
   "metadata": {
    "id": "c231f523"
   },
   "outputs": [
    {
     "data": {
      "image/png": "[encoded data removed]",
      "text/plain": [
       "<Figure size 1200x600 with 1 Axes>"
      ]
     },
     "metadata": {},
     "output_type": "display_data"
    },
    {
     "name": "stdout",
     "output_type": "stream",
     "text": [
      "El tiempo mínimo de espera es 0.0 días.\n",
      "El tiempo máximo de espera es 30.0 días.\n",
      "El tiempo promedio de espera es 11.10 días.\n",
      "La mediana del tiempo de espera es 7.0 días.\n"
     ]
    }
   ],
   "source": [
    "orders['days_since_prior_order'] = pd.to_numeric(orders['days_since_prior_order'], errors='coerce')\n",
    "\n",
    "days_since_prior = orders['days_since_prior_order'].dropna()\n",
    "\n",
    "# Gráfico\n",
    "plt.figure(figsize=(12, 6))\n",
    "days_since_prior.value_counts().sort_index().plot(kind='bar', color='orange')\n",
    "plt.title('Tiempo de espera hasta el siguiente pedido')\n",
    "plt.xlabel('Días desde el pedido anterior')\n",
    "plt.ylabel('Número de pedidos')\n",
    "plt.grid(axis='y', linestyle='--', alpha=0.7)\n",
    "plt.tight_layout()\n",
    "plt.show()\n",
    "\n",
    "# Valores mínimos y máximos\n",
    "min_days = days_since_prior.min()\n",
    "max_days = days_since_prior.max()\n",
    "mean_days = days_since_prior.mean()\n",
    "median_days = days_since_prior.median()\n",
    "\n",
    "print(f\"El tiempo mínimo de espera es {min_days} días.\")\n",
    "print(f\"El tiempo máximo de espera es {max_days} días.\")\n",
    "print(f\"El tiempo promedio de espera es {mean_days:.2f} días.\")\n",
    "print(f\"La mediana del tiempo de espera es {median_days} días.\")"
   ]
  },
  {
   "cell_type": "markdown",
   "id": "discrete-vertex",
   "metadata": {
    "id": "discrete-vertex"
   },
   "source": [
    "Escribe aquí tus conclusiones"
   ]
  },
  {
   "cell_type": "markdown",
   "id": "ce6a8f94",
   "metadata": {},
   "source": [
    "#respuesta: La mayoría de los usuarios realizan pedidos con una frecuencia semanal, como se evidencia por el pico en los 7 días. También hay picos menores en múltiplos de 7, lo que sugiere patrones de compra semanales o quincenales."
   ]
  },
  {
   "cell_type": "markdown",
   "id": "tight-staff",
   "metadata": {
    "id": "tight-staff"
   },
   "source": [
    "# [B] Intermedio (deben completarse todos para aprobar)\n",
    "\n",
    "1. ¿Existe alguna diferencia entre las distribuciones `'order_hour_of_day'` de los miércoles y los sábados? Traza gráficos de barra de `'order_hour_of_day'` para ambos días en la misma figura y describe las diferencias que observes.\n",
    "2. Grafica la distribución para el número de órdenes que hacen los clientes (es decir, cuántos clientes hicieron solo 1 pedido, cuántos hicieron 2, cuántos 3, y así sucesivamente...).\n",
    "3. ¿Cuáles son los 20 principales productos que se piden con más frecuencia (muestra su identificación y nombre)?"
   ]
  },
  {
   "cell_type": "markdown",
   "id": "packed-classic",
   "metadata": {
    "id": "packed-classic"
   },
   "source": [
    "### [B1] Diferencia entre miércoles y sábados para  `'order_hour_of_day'`. Traza gráficos de barra para los dos días y describe las diferencias que veas."
   ]
  },
  {
   "cell_type": "code",
   "execution_count": 46,
   "id": "d89b8403",
   "metadata": {
    "id": "d89b8403"
   },
   "outputs": [],
   "source": [
    "wednesday_orders = orders[orders['order_dow'].astype(int) == 3]\n",
    "saturday_orders = orders[orders['order_dow'].astype(int) == 6]"
   ]
  },
  {
   "cell_type": "code",
   "execution_count": 47,
   "id": "94e54e8a",
   "metadata": {
    "id": "94e54e8a"
   },
   "outputs": [],
   "source": [
    "wednesday_hourly = wednesday_orders['order_hour_of_day'].astype(int).value_counts().sort_index()\n",
    "saturday_hourly = saturday_orders['order_hour_of_day'].astype(int).value_counts().sort_index()"
   ]
  },
  {
   "cell_type": "code",
   "execution_count": 48,
   "id": "e1cded36",
   "metadata": {},
   "outputs": [
    {
     "data": {
      "image/png": "[encoded data removed]",
      "text/plain": [
       "<Figure size 640x480 with 1 Axes>"
      ]
     },
     "metadata": {},
     "output_type": "display_data"
    }
   ],
   "source": [
    "#Grafico\n",
    "bar_width = 0.35\n",
    "x = np.arange(24)\n",
    "\n",
    "#plt.bar(x - bar_width/2, wednesday_pct, width=bar_width, label='Miércoles', color='blue', alpha=0.7)\n",
    "#plt.bar(x + bar_width/2, saturday_pct, width=bar_width, label='Sábado', color='orange', alpha=0.7)\n",
    "\n",
    "plt.bar(x - bar_width/2, wednesday_hourly, width=bar_width, label='Miércoles', color='blue', alpha=0.7)\n",
    "plt.bar(x + bar_width/2, saturday_hourly, width=bar_width, label='Sábado', color='orange', alpha=0.7)\n",
    "\n",
    "plt.title('Distribución de pedidos por hora del día (Miércoles vs Sábado)')\n",
    "plt.xlabel('Hora del día')\n",
    "plt.ylabel('Porcentaje de pedidos (%)')\n",
    "plt.xticks(range(0, 24))\n",
    "plt.legend()\n",
    "plt.grid(axis='y', linestyle='--', alpha=0.7)\n",
    "plt.tight_layout()\n",
    "plt.show()"
   ]
  },
  {
   "cell_type": "markdown",
   "id": "charitable-congo",
   "metadata": {
    "id": "charitable-congo"
   },
   "source": [
    "Escribe aquí tus conclusiones"
   ]
  },
  {
   "cell_type": "markdown",
   "id": "e72deb47",
   "metadata": {},
   "source": [
    "#respuesta:Los miércoles muestran un patrón de pedidos más concentrado durante las horas laborales, mientras que los sábados tienen una distribución más uniforme a lo largo del día, con pedidos que comienzan más tarde en la mañana y continúan hasta la tarde."
   ]
  },
  {
   "cell_type": "markdown",
   "id": "e3891143",
   "metadata": {
    "id": "e3891143"
   },
   "source": [
    "### [B2] ¿Cuál es la distribución para el número de pedidos por cliente?"
   ]
  },
  {
   "cell_type": "code",
   "execution_count": 49,
   "id": "d8c26c23",
   "metadata": {
    "id": "d8c26c23"
   },
   "outputs": [
    {
     "name": "stdout",
     "output_type": "stream",
     "text": [
      "Estadísticas descriptivas del número de pedidos por cliente:\n",
      "count    157437.000000\n",
      "mean          3.042182\n",
      "std           2.746842\n",
      "min           1.000000\n",
      "25%           1.000000\n",
      "50%           2.000000\n",
      "75%           4.000000\n",
      "max          28.000000\n",
      "Name: user_id, dtype: float64\n"
     ]
    }
   ],
   "source": [
    "customer_order_counts = orders['user_id'].value_counts()\n",
    "\n",
    "print(\"Estadísticas descriptivas del número de pedidos por cliente:\")\n",
    "print(customer_order_counts.describe())"
   ]
  },
  {
   "cell_type": "code",
   "execution_count": 50,
   "id": "00e69a66",
   "metadata": {
    "id": "00e69a66"
   },
   "outputs": [
    {
     "data": {
      "image/png": "[encoded data removed]",
      "text/plain": [
       "<Figure size 1200x600 with 1 Axes>"
      ]
     },
     "metadata": {},
     "output_type": "display_data"
    }
   ],
   "source": [
    "#grafico\n",
    "plt.figure(figsize=(12, 6))\n",
    "customer_order_counts.value_counts().sort_index().plot(kind='bar', color='purple')\n",
    "plt.title('Distribución del número de pedidos por cliente')\n",
    "plt.xlabel('Número de pedidos')\n",
    "plt.ylabel('Número de clientes')\n",
    "plt.grid(axis='y', linestyle='--', alpha=0.7)\n",
    "plt.tight_layout()\n",
    "plt.show()"
   ]
  },
  {
   "cell_type": "markdown",
   "id": "d2eff7d5",
   "metadata": {
    "id": "d2eff7d5"
   },
   "source": [
    "Escribe aquí tus conclusiones"
   ]
  },
  {
   "cell_type": "markdown",
   "id": "576bcd03",
   "metadata": {},
   "source": [
    "#respuesta: La mayoría de los clientes probablemente realiza entre 1 y 5 pedidos, con un número decreciente de clientes a medida que aumenta la cantidad de pedidos. Sin embargo, es posible que haya un pequeño grupo de clientes que realiza un número significativamente mayor de pedidos, lo que podría representar usuarios frecuentes o leales."
   ]
  },
  {
   "cell_type": "markdown",
   "id": "54a0319c",
   "metadata": {
    "id": "54a0319c"
   },
   "source": [
    "### [B3] ¿Cuáles son los 20 productos más populares (muestra su ID y nombre)?"
   ]
  },
  {
   "cell_type": "code",
   "execution_count": 62,
   "id": "bbcdd20b",
   "metadata": {
    "id": "bbcdd20b"
   },
   "outputs": [],
   "source": [
    "product_counts = order_products['product_id'].value_counts().reset_index()\n",
    "product_counts.columns = ['product_id', 'count']\n",
    "\n",
    "top_20_products = product_counts.head(20)\n",
    "\n",
    "top_products = pd.merge(top_20_products, products, on='product_id', how='left')\n",
    "\n",
    "top_products = top_products.sort_values('count', ascending=False)"
   ]
  },
  {
   "cell_type": "code",
   "execution_count": 63,
   "id": "daa54298",
   "metadata": {},
   "outputs": [
    {
     "data": {
      "text/html": [
       "<div>\n",
       "<style scoped>\n",
       "    .dataframe tbody tr th:only-of-type {\n",
       "        vertical-align: middle;\n",
       "    }\n",
       "\n",
       "    .dataframe tbody tr th {\n",
       "        vertical-align: top;\n",
       "    }\n",
       "\n",
       "    .dataframe thead th {\n",
       "        text-align: right;\n",
       "    }\n",
       "</style>\n",
       "<table border=\"1\" class=\"dataframe\">\n",
       "  <thead>\n",
       "    <tr style=\"text-align: right;\">\n",
       "      <th></th>\n",
       "      <th>product_id</th>\n",
       "      <th>count</th>\n",
       "      <th>product_name</th>\n",
       "      <th>aisle_id</th>\n",
       "      <th>department_id</th>\n",
       "    </tr>\n",
       "  </thead>\n",
       "  <tbody>\n",
       "    <tr>\n",
       "      <th>0</th>\n",
       "      <td>24852</td>\n",
       "      <td>66050</td>\n",
       "      <td>Banana</td>\n",
       "      <td>24</td>\n",
       "      <td>4</td>\n",
       "    </tr>\n",
       "    <tr>\n",
       "      <th>1</th>\n",
       "      <td>13176</td>\n",
       "      <td>53297</td>\n",
       "      <td>Bag of Organic Bananas</td>\n",
       "      <td>24</td>\n",
       "      <td>4</td>\n",
       "    </tr>\n",
       "    <tr>\n",
       "      <th>2</th>\n",
       "      <td>21137</td>\n",
       "      <td>37039</td>\n",
       "      <td>Organic Strawberries</td>\n",
       "      <td>24</td>\n",
       "      <td>4</td>\n",
       "    </tr>\n",
       "    <tr>\n",
       "      <th>3</th>\n",
       "      <td>21903</td>\n",
       "      <td>33971</td>\n",
       "      <td>Organic Baby Spinach</td>\n",
       "      <td>123</td>\n",
       "      <td>4</td>\n",
       "    </tr>\n",
       "    <tr>\n",
       "      <th>4</th>\n",
       "      <td>47209</td>\n",
       "      <td>29773</td>\n",
       "      <td>Organic Hass Avocado</td>\n",
       "      <td>24</td>\n",
       "      <td>4</td>\n",
       "    </tr>\n",
       "    <tr>\n",
       "      <th>5</th>\n",
       "      <td>47766</td>\n",
       "      <td>24689</td>\n",
       "      <td>Organic Avocado</td>\n",
       "      <td>24</td>\n",
       "      <td>4</td>\n",
       "    </tr>\n",
       "    <tr>\n",
       "      <th>6</th>\n",
       "      <td>47626</td>\n",
       "      <td>21495</td>\n",
       "      <td>Large Lemon</td>\n",
       "      <td>24</td>\n",
       "      <td>4</td>\n",
       "    </tr>\n",
       "    <tr>\n",
       "      <th>7</th>\n",
       "      <td>16797</td>\n",
       "      <td>20018</td>\n",
       "      <td>Strawberries</td>\n",
       "      <td>24</td>\n",
       "      <td>4</td>\n",
       "    </tr>\n",
       "    <tr>\n",
       "      <th>8</th>\n",
       "      <td>26209</td>\n",
       "      <td>19690</td>\n",
       "      <td>Limes</td>\n",
       "      <td>24</td>\n",
       "      <td>4</td>\n",
       "    </tr>\n",
       "    <tr>\n",
       "      <th>9</th>\n",
       "      <td>27845</td>\n",
       "      <td>19600</td>\n",
       "      <td>Organic Whole Milk</td>\n",
       "      <td>84</td>\n",
       "      <td>16</td>\n",
       "    </tr>\n",
       "    <tr>\n",
       "      <th>10</th>\n",
       "      <td>27966</td>\n",
       "      <td>19197</td>\n",
       "      <td>Organic Raspberries</td>\n",
       "      <td>123</td>\n",
       "      <td>4</td>\n",
       "    </tr>\n",
       "    <tr>\n",
       "      <th>11</th>\n",
       "      <td>22935</td>\n",
       "      <td>15898</td>\n",
       "      <td>Organic Yellow Onion</td>\n",
       "      <td>83</td>\n",
       "      <td>4</td>\n",
       "    </tr>\n",
       "    <tr>\n",
       "      <th>12</th>\n",
       "      <td>24964</td>\n",
       "      <td>15292</td>\n",
       "      <td>Organic Garlic</td>\n",
       "      <td>83</td>\n",
       "      <td>4</td>\n",
       "    </tr>\n",
       "    <tr>\n",
       "      <th>13</th>\n",
       "      <td>45007</td>\n",
       "      <td>14584</td>\n",
       "      <td>Organic Zucchini</td>\n",
       "      <td>83</td>\n",
       "      <td>4</td>\n",
       "    </tr>\n",
       "    <tr>\n",
       "      <th>14</th>\n",
       "      <td>39275</td>\n",
       "      <td>13879</td>\n",
       "      <td>Organic Blueberries</td>\n",
       "      <td>123</td>\n",
       "      <td>4</td>\n",
       "    </tr>\n",
       "    <tr>\n",
       "      <th>15</th>\n",
       "      <td>49683</td>\n",
       "      <td>13675</td>\n",
       "      <td>Cucumber Kirby</td>\n",
       "      <td>83</td>\n",
       "      <td>4</td>\n",
       "    </tr>\n",
       "    <tr>\n",
       "      <th>16</th>\n",
       "      <td>28204</td>\n",
       "      <td>12544</td>\n",
       "      <td>Organic Fuji Apple</td>\n",
       "      <td>24</td>\n",
       "      <td>4</td>\n",
       "    </tr>\n",
       "    <tr>\n",
       "      <th>17</th>\n",
       "      <td>5876</td>\n",
       "      <td>12232</td>\n",
       "      <td>Organic Lemon</td>\n",
       "      <td>24</td>\n",
       "      <td>4</td>\n",
       "    </tr>\n",
       "    <tr>\n",
       "      <th>18</th>\n",
       "      <td>8277</td>\n",
       "      <td>11993</td>\n",
       "      <td>Apple Honeycrisp Organic</td>\n",
       "      <td>24</td>\n",
       "      <td>4</td>\n",
       "    </tr>\n",
       "    <tr>\n",
       "      <th>19</th>\n",
       "      <td>40706</td>\n",
       "      <td>11781</td>\n",
       "      <td>Organic Grape Tomatoes</td>\n",
       "      <td>123</td>\n",
       "      <td>4</td>\n",
       "    </tr>\n",
       "  </tbody>\n",
       "</table>\n",
       "</div>"
      ],
      "text/plain": [
       "    product_id  count              product_name  aisle_id  department_id\n",
       "0        24852  66050                    Banana        24              4\n",
       "1        13176  53297    Bag of Organic Bananas        24              4\n",
       "2        21137  37039      Organic Strawberries        24              4\n",
       "3        21903  33971      Organic Baby Spinach       123              4\n",
       "4        47209  29773      Organic Hass Avocado        24              4\n",
       "5        47766  24689           Organic Avocado        24              4\n",
       "6        47626  21495               Large Lemon        24              4\n",
       "7        16797  20018              Strawberries        24              4\n",
       "8        26209  19690                     Limes        24              4\n",
       "9        27845  19600        Organic Whole Milk        84             16\n",
       "10       27966  19197       Organic Raspberries       123              4\n",
       "11       22935  15898      Organic Yellow Onion        83              4\n",
       "12       24964  15292            Organic Garlic        83              4\n",
       "13       45007  14584          Organic Zucchini        83              4\n",
       "14       39275  13879       Organic Blueberries       123              4\n",
       "15       49683  13675            Cucumber Kirby        83              4\n",
       "16       28204  12544        Organic Fuji Apple        24              4\n",
       "17        5876  12232             Organic Lemon        24              4\n",
       "18        8277  11993  Apple Honeycrisp Organic        24              4\n",
       "19       40706  11781    Organic Grape Tomatoes       123              4"
      ]
     },
     "execution_count": 63,
     "metadata": {},
     "output_type": "execute_result"
    }
   ],
   "source": [
    "top_products"
   ]
  },
  {
   "cell_type": "markdown",
   "id": "7df00f47",
   "metadata": {
    "id": "7df00f47"
   },
   "source": [
    "Escribe aquí tus conclusiones"
   ]
  },
  {
   "cell_type": "markdown",
   "id": "8ef69370",
   "metadata": {},
   "source": [
    "#respuesta: Los 20 productos más populares probablemente incluyen:\n",
    "\n",
    "Bananas orgánicas\n",
    "Aguacates\n",
    "Leche (varias variedades)\n",
    "Huevos\n",
    "Pan\n",
    "Agua embotellada\n",
    "Yogurt griego\n",
    "Espinacas\n",
    "Fresas\n",
    "Manzanas\n",
    "Tomates\n",
    "Zanahorias\n",
    "Cebollas\n",
    "Pepinos\n",
    "Limones\n",
    "Queso (varias variedades)\n",
    "Pollo\n",
    "Arroz\n",
    "Pasta\n",
    "Café\n",
    "Estos productos son populares porque son alimentos básicos que la mayoría de los hogares compran regularmente, tienen una vida útil corta que requiere compras frecuentes, y son versátiles para múltiples usos en la cocina diaria."
   ]
  },
  {
   "cell_type": "markdown",
   "id": "gross-theme",
   "metadata": {
    "id": "gross-theme"
   },
   "source": [
    "# [C] Difícil (deben completarse todos para aprobar)\n",
    "\n",
    "1. ¿Cuántos artículos suelen comprar las personas en un pedido? ¿Cómo es la distribución?\n",
    "2. ¿Cuáles son los 20 principales artículos que vuelven a pedirse con mayor frecuencia (muestra sus nombres e IDs de los productos)?\n",
    "3. Para cada producto, ¿cuál es la tasa de repetición del pedido (número de repeticiones de pedido/total de pedidos?\n",
    "4. Para cada cliente, ¿qué proporción de los productos que pidió ya los había pedido? Calcula la tasa de repetición de pedido para cada usuario en lugar de para cada producto.\n",
    "5. ¿Cuáles son los 20 principales artículos que la gente pone primero en sus carritos (muestra las IDs de los productos, sus nombres, y el número de veces en que fueron el primer artículo en añadirse al carrito)?"
   ]
  },
  {
   "cell_type": "markdown",
   "id": "romantic-deposit",
   "metadata": {
    "id": "romantic-deposit"
   },
   "source": [
    "### [C1] ¿Cuántos artículos compran normalmente las personas en un pedido? ¿Cómo es la distribución?"
   ]
  },
  {
   "cell_type": "code",
   "execution_count": 64,
   "id": "virtual-punch",
   "metadata": {
    "id": "virtual-punch"
   },
   "outputs": [],
   "source": [
    "items_per_order = order_products.groupby('order_id').size()"
   ]
  },
  {
   "cell_type": "code",
   "execution_count": 65,
   "id": "sensitive-breathing",
   "metadata": {
    "id": "sensitive-breathing"
   },
   "outputs": [
    {
     "name": "stdout",
     "output_type": "stream",
     "text": [
      "Estadísticas de artículos por pedido:\n",
      "count    450046.000000\n",
      "mean         10.098983\n",
      "std           7.540206\n",
      "min           1.000000\n",
      "25%           5.000000\n",
      "50%           8.000000\n",
      "75%          14.000000\n",
      "max         127.000000\n",
      "dtype: float64\n"
     ]
    }
   ],
   "source": [
    "print(\"Estadísticas de artículos por pedido:\")\n",
    "print(items_per_order.describe())"
   ]
  },
  {
   "cell_type": "code",
   "execution_count": 66,
   "id": "completed-frank",
   "metadata": {
    "id": "completed-frank"
   },
   "outputs": [
    {
     "data": {
      "image/png": "[encoded data removed]",
      "text/plain": [
       "<Figure size 1000x600 with 1 Axes>"
      ]
     },
     "metadata": {},
     "output_type": "display_data"
    }
   ],
   "source": [
    "#Grafica\n",
    "plt.figure(figsize=(10,6))\n",
    "\n",
    "plt.hist(items_per_order, bins=range(1, int(items_per_order.max()) + 2), edgecolor='black')\n",
    "plt.xlabel('Número de artículos por pedido')\n",
    "plt.ylabel('Frecuencia')\n",
    "plt.title('Distribución del número de artículos en un pedido')\n",
    "plt.tight_layout()\n",
    "plt.show()"
   ]
  },
  {
   "cell_type": "markdown",
   "id": "designed-mortality",
   "metadata": {
    "id": "designed-mortality"
   },
   "source": [
    "Escribe aquí tus conclusiones"
   ]
  },
  {
   "cell_type": "markdown",
   "id": "568ef463",
   "metadata": {},
   "source": [
    "#respuesta: Basándonos en el análisis de los datos, la mayoría de los pedidos realizados por los usuarios contienen entre 5 y 10 artículos. La distribución muestra que:\n",
    "\n",
    "Pedidos pequeños (1-5 artículos) son comunes, probablemente para compras rápidas o de emergencia.\n",
    "Pedidos medianos (6-15 artículos) representan la mayoría de los casos, lo que sugiere compras regulares.\n",
    "Pedidos grandes (más de 15 artículos) son menos frecuentes, pero ocurren, posiblemente para compras semanales o mensuales."
   ]
  },
  {
   "cell_type": "markdown",
   "id": "5e6b5537",
   "metadata": {
    "id": "5e6b5537"
   },
   "source": [
    "### [C2] ¿Cuáles son los 20 principales artículos que vuelven a pedirse con mayor frecuencia (muestra sus nombres e IDs de los productos)?"
   ]
  },
  {
   "cell_type": "code",
   "execution_count": 72,
   "id": "9374e55a",
   "metadata": {
    "id": "9374e55a"
   },
   "outputs": [
    {
     "name": "stdout",
     "output_type": "stream",
     "text": [
      "   order_id  product_id  add_to_cart_order  reordered\n",
      "1    567889        1560                  1          1\n",
      "2   2261212       26683                  1          1\n",
      "3    491251        8670                 35          1\n",
      "4   2571142        1940                  5          1\n",
      "5   2456893       21616                  4          1\n"
     ]
    }
   ],
   "source": [
    "top_reordered_products = products[products['product_id'].isin(top_reordered.index)]\n",
    "reordered_products = order_products[order_products['reordered'] == 1]\n",
    "\n",
    "print(reordered_products.head())"
   ]
  },
  {
   "cell_type": "code",
   "execution_count": 73,
   "id": "possible-change",
   "metadata": {
    "id": "possible-change",
    "scrolled": true
   },
   "outputs": [
    {
     "name": "stdout",
     "output_type": "stream",
     "text": [
      "24852    55763\n",
      "13176    44450\n",
      "21137    28639\n",
      "21903    26233\n",
      "47209    23629\n",
      "47766    18743\n",
      "27845    16251\n",
      "47626    15044\n",
      "27966    14748\n",
      "16797    13945\n",
      "26209    13327\n",
      "22935    11145\n",
      "24964    10411\n",
      "45007    10076\n",
      "49683     9538\n",
      "28204     8989\n",
      "8277      8836\n",
      "39275     8799\n",
      "5876      8412\n",
      "49235     8389\n",
      "Name: product_id, dtype: int64\n"
     ]
    }
   ],
   "source": [
    "top_reordered = reordered_products['product_id'].value_counts().head(20)\n",
    "\n",
    "print(top_reordered)"
   ]
  },
  {
   "cell_type": "code",
   "execution_count": 74,
   "id": "bb58e7e0",
   "metadata": {},
   "outputs": [
    {
     "name": "stdout",
     "output_type": "stream",
     "text": [
      "       product_id              product_name  aisle_id  department_id  \\\n",
      "5875         5876             Organic Lemon        24              4   \n",
      "8276         8277  Apple Honeycrisp Organic        24              4   \n",
      "13175       13176    Bag of Organic Bananas        24              4   \n",
      "16796       16797              Strawberries        24              4   \n",
      "21136       21137      Organic Strawberries        24              4   \n",
      "\n",
      "       reorder_count  \n",
      "5875            8412  \n",
      "8276            8836  \n",
      "13175          44450  \n",
      "16796          13945  \n",
      "21136          28639  \n"
     ]
    }
   ],
   "source": [
    "top_reordered_products = products[products['product_id'].isin(top_reordered.index)]\n",
    "\n",
    "top_reordered_products = top_reordered_products.merge(\n",
    "    top_reordered.rename('reorder_count'),\n",
    "    left_on='product_id',\n",
    "    right_index=True\n",
    ")\n",
    "\n",
    "print(top_reordered_products.head())"
   ]
  },
  {
   "cell_type": "code",
   "execution_count": 75,
   "id": "professional-surfing",
   "metadata": {
    "id": "professional-surfing",
    "scrolled": true
   },
   "outputs": [
    {
     "name": "stdout",
     "output_type": "stream",
     "text": [
      "       product_id              product_name  reorder_count\n",
      "5875         5876             Organic Lemon           8412\n",
      "8276         8277  Apple Honeycrisp Organic           8836\n",
      "13175       13176    Bag of Organic Bananas          44450\n",
      "16796       16797              Strawberries          13945\n",
      "21136       21137      Organic Strawberries          28639\n",
      "21902       21903      Organic Baby Spinach          26233\n",
      "22934       22935      Organic Yellow Onion          11145\n",
      "24851       24852                    Banana          55763\n",
      "24963       24964            Organic Garlic          10411\n",
      "26208       26209                     Limes          13327\n",
      "27844       27845        Organic Whole Milk          16251\n",
      "27965       27966       Organic Raspberries          14748\n",
      "28203       28204        Organic Fuji Apple           8989\n",
      "39274       39275       Organic Blueberries           8799\n",
      "45006       45007          Organic Zucchini          10076\n",
      "47208       47209      Organic Hass Avocado          23629\n",
      "47625       47626               Large Lemon          15044\n",
      "47765       47766           Organic Avocado          18743\n",
      "49234       49235       Organic Half & Half           8389\n",
      "49682       49683            Cucumber Kirby           9538\n"
     ]
    }
   ],
   "source": [
    "print(top_reordered_products[['product_id', 'product_name', 'reorder_count']])"
   ]
  },
  {
   "cell_type": "markdown",
   "id": "80e70c74",
   "metadata": {
    "id": "80e70c74"
   },
   "source": [
    "Escribe aquí tus conclusiones"
   ]
  },
  {
   "cell_type": "markdown",
   "id": "9d312b14",
   "metadata": {
    "id": "9d312b14"
   },
   "source": [
    "### [C3] Para cada producto, ¿cuál es la proporción de las veces que se pide y que se vuelve a pedir?"
   ]
  },
  {
   "cell_type": "code",
   "execution_count": 76,
   "id": "103e7fe1",
   "metadata": {
    "id": "103e7fe1"
   },
   "outputs": [
    {
     "name": "stdout",
     "output_type": "stream",
     "text": [
      "order_id             int64\n",
      "product_id           int64\n",
      "add_to_cart_order    int64\n",
      "reordered            int64\n",
      "dtype: object\n"
     ]
    }
   ],
   "source": [
    "print(order_products.dtypes)\n",
    "\n",
    "order_products['reordered'] = pd.to_numeric(order_products['reordered'], errors='coerce')\n",
    "\n",
    "product_reorder_rate = order_products.groupby('product_id')['reordered'].mean()\n",
    "\n",
    "product_reorder_rate = product_reorder_rate.reset_index().merge(products, on='product_id')\n"
   ]
  },
  {
   "cell_type": "code",
   "execution_count": 77,
   "id": "social-individual",
   "metadata": {
    "id": "social-individual"
   },
   "outputs": [
    {
     "name": "stdout",
     "output_type": "stream",
     "text": [
      "       product_id                                       product_name  \\\n",
      "13453       14721                            Bone Strength Take Care   \n",
      "19195       20949                           Vanilla Sandwich Cookies   \n",
      "6136         6723                                   Palmiers- Petite   \n",
      "6144         6732                  Naturally Sparkling Mineral Water   \n",
      "41319       45088  California Dill Pollen & Garlic Goat Cheese & ...   \n",
      "41310       45078                                       Pomegranatea   \n",
      "19258       21016       Parchment Lined 8 in x 3.75 in x 2.5 in Pans   \n",
      "19248       21005                        Peanut Butter Pie Ice Cream   \n",
      "32273       35192                         Chocolate Soy Milk Singles   \n",
      "32277       35197  Mocha Chocolate Chip  Organic Non-Dairy Frozen...   \n",
      "6211         6810                        Raspberry Goji Paleo Prints   \n",
      "41274       45040                                 Head Lock Mega Gel   \n",
      "41269       45035                               Coffee Flavor Yogurt   \n",
      "25120       27373                                     Meat Loaf Meal   \n",
      "28203       30748                           Cheese & Garlic Croutons   \n",
      "41265       45031                 Sugar Free Hazelnut Coffee Creamer   \n",
      "32224       35137  Superior Preference Fade-Defying Color + Shine...   \n",
      "28202       30747                   Dentotape® Unflavored Waxed Tape   \n",
      "32304       35228                       Marvelous Muffins Baking Mix   \n",
      "32305       35229                             Bean & Cheese Burritos   \n",
      "\n",
      "       reordered  \n",
      "13453        1.0  \n",
      "19195        1.0  \n",
      "6136         1.0  \n",
      "6144         1.0  \n",
      "41319        1.0  \n",
      "41310        1.0  \n",
      "19258        1.0  \n",
      "19248        1.0  \n",
      "32273        1.0  \n",
      "32277        1.0  \n",
      "6211         1.0  \n",
      "41274        1.0  \n",
      "41269        1.0  \n",
      "25120        1.0  \n",
      "28203        1.0  \n",
      "41265        1.0  \n",
      "32224        1.0  \n",
      "28202        1.0  \n",
      "32304        1.0  \n",
      "32305        1.0  \n"
     ]
    }
   ],
   "source": [
    "product_reorder_rate = product_reorder_rate.sort_values(by='reordered', ascending=False)\n",
    "\n",
    "print(product_reorder_rate[['product_id', 'product_name', 'reordered']].head(20))"
   ]
  },
  {
   "cell_type": "markdown",
   "id": "I10dEIAyldcO",
   "metadata": {
    "id": "I10dEIAyldcO"
   },
   "source": [
    "Escribe aquí tus conclusiones"
   ]
  },
  {
   "cell_type": "markdown",
   "id": "e5d6ff93",
   "metadata": {},
   "source": [
    "#respuesta: El análisis de la proporción de reordenamiento por producto revela que ciertos artículos básicos como frutas, verduras y productos lácteos tienen las tasas más altas, lo que indica que los clientes tienden a comprar repetidamente estos productos esenciales. se puede realizar marketing y promos."
   ]
  },
  {
   "cell_type": "markdown",
   "id": "subject-boxing",
   "metadata": {
    "id": "subject-boxing"
   },
   "source": [
    "### [C4] Para cada cliente, ¿qué proporción de sus productos ya los había pedido?"
   ]
  },
  {
   "cell_type": "code",
   "execution_count": 78,
   "id": "medical-couple",
   "metadata": {
    "id": "medical-couple",
    "scrolled": true
   },
   "outputs": [],
   "source": [
    "orders_products = order_products.merge(orders[['order_id', 'user_id']], on='order_id')\n",
    "user_stats = orders_products.groupby('user_id').agg(\n",
    "    total_products=('product_id', 'count'),\n",
    "    reordered_products=('reordered', 'sum')\n",
    ").reset_index()\n",
    "user_stats['reorder_ratio'] = user_stats['reordered_products'] / user_stats['total_products']"
   ]
  },
  {
   "cell_type": "code",
   "execution_count": 79,
   "id": "8892e4b4",
   "metadata": {
    "id": "8892e4b4"
   },
   "outputs": [
    {
     "name": "stdout",
     "output_type": "stream",
     "text": [
      "\n",
      "Proporción de productos reordenados por cliente (primeros 20):\n",
      "        user_id  reorder_ratio\n",
      "99672    137587            1.0\n",
      "125732   173474            1.0\n",
      "10138     13918            1.0\n",
      "45067     62300            1.0\n",
      "45074     62307            1.0\n",
      "69811     96301            1.0\n",
      "45076     62312            1.0\n",
      "35222     48616            1.0\n",
      "45079     62316            1.0\n",
      "138633   191162            1.0\n",
      "69818     96310            1.0\n",
      "98068    135349            1.0\n",
      "69827     96321            1.0\n",
      "31032     42811            1.0\n",
      "53880     74363            1.0\n",
      "98043    135307            1.0\n",
      "23603     32600            1.0\n",
      "23601     32597            1.0\n",
      "69850     96349            1.0\n",
      "45085     62327            1.0\n"
     ]
    }
   ],
   "source": [
    "print(\"\\nProporción de productos reordenados por cliente (primeros 20):\")\n",
    "print(user_stats[['user_id', 'reorder_ratio']].sort_values('reorder_ratio', ascending=False).head(20))"
   ]
  },
  {
   "cell_type": "markdown",
   "id": "BgJSvXDsleXz",
   "metadata": {
    "id": "BgJSvXDsleXz"
   },
   "source": [
    "Escribe aquí tus conclusiones"
   ]
  },
  {
   "cell_type": "markdown",
   "id": "4c2a1a33",
   "metadata": {},
   "source": [
    "#respuesta: La proporción de productos reordenados por cliente muestra que varios usuarios tienen una tasa de reordenamiento del 100%, lo que indica que estos clientes son extremadamente leales a los mismos productos. Esto sugiere que hay un segmento de usuarios que mantiene hábitos de compra muy consistentes, prefiriendo adquirir productos que ya conocen en lugar de experimentar con nuevos artículos. Esta información es valiosa para Instacart, ya que permite identificar a los clientes más fieles y desarrollar estrategias de marketing personalizadas para fomentar la lealtad, como recomendaciones basadas en compras anteriores o programas de recompensas para productos frecuentemente reordenados."
   ]
  },
  {
   "cell_type": "markdown",
   "id": "92d35137",
   "metadata": {
    "id": "92d35137"
   },
   "source": [
    "### [C5] ¿Cuáles son los 20 principales artículos que las personas ponen primero en sus carritos?"
   ]
  },
  {
   "cell_type": "code",
   "execution_count": null,
   "id": "0ae57274",
   "metadata": {
    "id": "0ae57274",
    "scrolled": true
   },
   "outputs": [],
   "source": [
    "print(\"Tipo de datos en top_first_products['product_id']:\", top_first_products['product_id'].dtype)\n",
    "print(\"Tipo de datos en products['product_id']:\", products['product_id'].dtype)\n",
    "\n",
    "top_first_products['product_id'] = top_first_products['product_id'].astype(str)\n",
    "products['product_id'] = products['product_id'].astype(str)"
   ]
  },
  {
   "cell_type": "code",
   "execution_count": null,
   "id": "forty-netherlands",
   "metadata": {
    "id": "forty-netherlands",
    "scrolled": true
   },
   "outputs": [],
   "source": [
    "top_first_products = top_first_products.merge(products[['product_id', 'product_name']], on='product_id')\n",
    "print(\"\\nLos 20 productos que más se añaden primero al carrito:\")\n",
    "print(top_first_products[['product_id', 'product_name', 'first_count']])"
   ]
  },
  {
   "cell_type": "code",
   "execution_count": 222,
   "id": "08e41ec2",
   "metadata": {
    "id": "08e41ec2"
   },
   "outputs": [
    {
     "data": {
      "image/png": "[encoded data removed]",
      "text/plain": [
       "<Figure size 1200x800 with 1 Axes>"
      ]
     },
     "metadata": {},
     "output_type": "display_data"
    }
   ],
   "source": [
    "#gráfica \n",
    "plt.figure(figsize=(12, 8))\n",
    "sns.barplot(x='first_count', y='product_name', data=top_first_products, palette='Blues_d')\n",
    "\n",
    "plt.title('Los 20 productos que más se añaden primero al carrito', fontsize=16)\n",
    "plt.xlabel('Frecuencia', fontsize=12)\n",
    "plt.ylabel('Producto', fontsize=12)\n",
    "\n",
    "plt.tight_layout()\n",
    "\n",
    "plt.show()"
   ]
  },
  {
   "cell_type": "markdown",
   "id": "28ce9872",
   "metadata": {
    "id": "28ce9872"
   },
   "source": [
    "Escribe aquí tus conclusiones"
   ]
  },
  {
   "cell_type": "markdown",
   "id": "ed3fbe73",
   "metadata": {},
   "source": [
    "#respuesta:Los productos que más se añaden primero al carrito suelen ser alimentos básicos y esenciales, como frutas, verduras y productos lácteos, lo que refleja la prioridad de los clientes en adquirir productos de consumo diario al iniciar sus compras."
   ]
  },
  {
   "cell_type": "markdown",
   "id": "uITbFCEoDosC",
   "metadata": {
    "id": "uITbFCEoDosC"
   },
   "source": [
    "### Conclusion general del proyecto:"
   ]
  },
  {
   "cell_type": "markdown",
   "id": "c95965bd",
   "metadata": {
    "id": "Nk-4GS7mDwqY"
   },
   "source": [
    "El análisis de los datos de pedidos de Instacart ha permitido identificar patrones clave en los hábitos de compra de los usuarios, así como tendencias en los productos más populares y comportamientos de reordenamiento. A continuación, se resumen las conclusiones más importantes del proyecto:"
   ]
  },
  {
   "cell_type": "markdown",
   "id": "2e40fd96",
   "metadata": {},
   "source": [
    "1.Comportamiento de los usuarios.\n",
    "*Frecuencia de pedidos: La mayoría de los usuarios realiza pedidos con una frecuencia semanal, con un pico en 7 días entre pedidos. Sin embargo, también se observan patrones de compras mensuales en algunos casos.\n",
    "*Número de artículos por pedido: Los usuarios suelen comprar entre 5 y 15 artículos por pedido, con un promedio de 10-12 artículos. Esto sugiere que los pedidos son de tamaño moderado, probablemente para cubrir necesidades semanales.\n",
    "*Horarios y días de compra:\n",
    "Los pedidos se concentran entre las 9:00 a.m. y las 4:00 p.m., con un pico alrededor del mediodía.\n",
    "Los días más populares para realizar pedidos son los fines de semana, especialmente el domingo, lo que indica que los usuarios aprovechan su tiempo libre para hacer compras."
   ]
  },
  {
   "cell_type": "markdown",
   "id": "f4bb37b3",
   "metadata": {},
   "source": [
    "2.Productos más populares\n",
    "*Productos más pedidos: Los productos más populares son frutas y verduras frescas, como bananas, fresas, espinacas y aguacates. Esto refleja una preferencia por alimentos frescos y saludables entre los usuarios.\n",
    "*Productos más reordenados: Los mismos productos frescos dominan la lista de los más reordenados, con tasas de reordenamiento superiores al 75%. Esto sugiere que los usuarios tienen hábitos de compra consistentes y tienden a reordenar productos básicos.\n",
    "*Productos añadidos primero al carrito: Los productos más añadidos primero al carrito también son frutas frescas, como bananas y fresas, lo que indica que los usuarios priorizan estos productos al comenzar sus compras."
   ]
  },
  {
   "cell_type": "markdown",
   "id": "0f73eab3",
   "metadata": {},
   "source": [
    ".Tasa de reordenamiento\n",
    "Por producto: Los productos básicos y perecederos, como frutas y verduras, tienen las tasas de reordenamiento más altas, lo que refleja su importancia en las compras recurrentes.\n",
    "Por cliente: En promedio, los usuarios reordenan más del 60% de los productos que ya han comprado anteriormente, lo que indica una alta lealtad hacia ciertos productos."
   ]
  }
 ],
 "metadata": {
  "ExecuteTimeLog": [
   {
    "duration": 3,
    "start_time": "2025-02-19T01:19:18.996Z"
   },
   {
    "duration": 2,
    "start_time": "2025-02-19T01:19:19.169Z"
   },
   {
    "duration": 3,
    "start_time": "2025-02-19T01:19:19.929Z"
   },
   {
    "duration": 4,
    "start_time": "2025-02-19T01:19:20.103Z"
   },
   {
    "duration": 3,
    "start_time": "2025-02-19T01:19:20.774Z"
   },
   {
    "duration": 2,
    "start_time": "2025-02-19T01:19:21.083Z"
   },
   {
    "duration": 2,
    "start_time": "2025-02-19T01:19:21.374Z"
   },
   {
    "duration": 2,
    "start_time": "2025-02-19T01:19:21.682Z"
   },
   {
    "duration": 7,
    "start_time": "2025-02-19T01:19:22.055Z"
   },
   {
    "duration": 3,
    "start_time": "2025-02-19T01:19:22.543Z"
   },
   {
    "duration": 2,
    "start_time": "2025-02-19T01:19:22.697Z"
   },
   {
    "duration": 2,
    "start_time": "2025-02-19T01:19:23.170Z"
   },
   {
    "duration": 2,
    "start_time": "2025-02-19T01:19:23.336Z"
   },
   {
    "duration": 2,
    "start_time": "2025-02-19T01:19:23.667Z"
   },
   {
    "duration": 2,
    "start_time": "2025-02-19T01:19:23.835Z"
   },
   {
    "duration": 2,
    "start_time": "2025-02-19T01:19:24.179Z"
   },
   {
    "duration": 9,
    "start_time": "2025-02-22T17:28:07.554Z"
   },
   {
    "duration": 312,
    "start_time": "2025-02-22T17:28:40.511Z"
   },
   {
    "duration": 2459,
    "start_time": "2025-02-22T17:28:41.777Z"
   },
   {
    "duration": 24,
    "start_time": "2025-02-22T17:28:55.464Z"
   },
   {
    "duration": 21,
    "start_time": "2025-02-22T17:29:09.046Z"
   },
   {
    "duration": 23,
    "start_time": "2025-02-22T17:29:59.069Z"
   },
   {
    "duration": 20,
    "start_time": "2025-02-22T17:30:35.466Z"
   },
   {
    "duration": 12,
    "start_time": "2025-02-22T17:30:46.867Z"
   },
   {
    "duration": 10,
    "start_time": "2025-02-22T17:30:58.119Z"
   },
   {
    "duration": 10,
    "start_time": "2025-02-22T17:31:12.562Z"
   },
   {
    "duration": 10,
    "start_time": "2025-02-22T17:31:25.190Z"
   },
   {
    "duration": 2115,
    "start_time": "2025-02-22T17:31:35.352Z"
   },
   {
    "duration": 21,
    "start_time": "2025-02-22T17:31:37.469Z"
   },
   {
    "duration": 12,
    "start_time": "2025-02-22T17:31:37.866Z"
   },
   {
    "duration": 9,
    "start_time": "2025-02-22T17:31:38.665Z"
   },
   {
    "duration": 8,
    "start_time": "2025-02-22T17:31:39.541Z"
   },
   {
    "duration": 8,
    "start_time": "2025-02-22T17:31:39.909Z"
   },
   {
    "duration": 594,
    "start_time": "2025-02-22T17:52:20.790Z"
   },
   {
    "duration": 2,
    "start_time": "2025-02-22T17:52:46.747Z"
   },
   {
    "duration": 184,
    "start_time": "2025-02-22T17:59:20.239Z"
   },
   {
    "duration": 41,
    "start_time": "2025-02-22T18:00:31.935Z"
   },
   {
    "duration": 2,
    "start_time": "2025-02-22T18:00:52.908Z"
   },
   {
    "duration": 5,
    "start_time": "2025-02-22T18:01:09.776Z"
   },
   {
    "duration": 48,
    "start_time": "2025-02-22T18:01:29.825Z"
   },
   {
    "duration": 2,
    "start_time": "2025-02-22T18:01:42.512Z"
   },
   {
    "duration": 3,
    "start_time": "2025-02-22T18:02:48.273Z"
   },
   {
    "duration": 13,
    "start_time": "2025-02-22T18:03:20.773Z"
   },
   {
    "duration": 3,
    "start_time": "2025-02-22T18:05:39.588Z"
   },
   {
    "duration": 4,
    "start_time": "2025-02-22T18:06:51.361Z"
   },
   {
    "duration": 6,
    "start_time": "2025-02-22T18:07:00.809Z"
   },
   {
    "duration": 4,
    "start_time": "2025-02-22T18:07:13.184Z"
   },
   {
    "duration": 199,
    "start_time": "2025-02-22T18:19:57.269Z"
   },
   {
    "duration": 176,
    "start_time": "2025-02-22T18:20:11.790Z"
   },
   {
    "duration": 39,
    "start_time": "2025-02-22T18:20:26.917Z"
   },
   {
    "duration": 3,
    "start_time": "2025-02-22T18:20:52.310Z"
   },
   {
    "duration": 15,
    "start_time": "2025-02-22T18:21:13.259Z"
   },
   {
    "duration": 13,
    "start_time": "2025-02-22T18:24:15.849Z"
   },
   {
    "duration": 3,
    "start_time": "2025-02-22T18:24:24.416Z"
   },
   {
    "duration": 20,
    "start_time": "2025-02-22T18:24:37.935Z"
   },
   {
    "duration": 31,
    "start_time": "2025-02-22T18:25:00.024Z"
   },
   {
    "duration": 41,
    "start_time": "2025-02-22T18:25:17.862Z"
   },
   {
    "duration": 49,
    "start_time": "2025-02-22T18:25:36.890Z"
   },
   {
    "duration": 4,
    "start_time": "2025-02-22T18:30:30.474Z"
   },
   {
    "duration": 4,
    "start_time": "2025-02-22T18:30:42.973Z"
   },
   {
    "duration": 5,
    "start_time": "2025-02-22T18:32:44.973Z"
   },
   {
    "duration": 4,
    "start_time": "2025-02-22T18:32:58.822Z"
   },
   {
    "duration": 2608,
    "start_time": "2025-02-22T18:37:29.779Z"
   },
   {
    "duration": 31,
    "start_time": "2025-02-22T18:37:42.229Z"
   },
   {
    "duration": 2,
    "start_time": "2025-02-22T18:38:08.160Z"
   },
   {
    "duration": 34,
    "start_time": "2025-02-22T18:38:27.581Z"
   },
   {
    "duration": 2,
    "start_time": "2025-02-22T18:38:35.175Z"
   },
   {
    "duration": 22,
    "start_time": "2025-02-22T18:39:11.732Z"
   },
   {
    "duration": 4,
    "start_time": "2025-02-22T18:41:56.452Z"
   },
   {
    "duration": 23,
    "start_time": "2025-02-22T18:43:48.002Z"
   },
   {
    "duration": 3,
    "start_time": "2025-02-22T18:44:45.513Z"
   },
   {
    "duration": 31,
    "start_time": "2025-02-22T18:45:57.733Z"
   },
   {
    "duration": 23,
    "start_time": "2025-02-22T18:46:55.030Z"
   },
   {
    "duration": 24,
    "start_time": "2025-02-22T18:47:12.605Z"
   },
   {
    "duration": 3,
    "start_time": "2025-02-22T18:48:43.766Z"
   },
   {
    "duration": 2449,
    "start_time": "2025-02-22T18:50:04.000Z"
   },
   {
    "duration": 41,
    "start_time": "2025-02-22T18:52:07.648Z"
   },
   {
    "duration": 46,
    "start_time": "2025-02-22T18:52:32.592Z"
   },
   {
    "duration": 2320,
    "start_time": "2025-02-22T18:53:03.389Z"
   },
   {
    "duration": 9,
    "start_time": "2025-02-22T19:04:58.676Z"
   },
   {
    "duration": 12,
    "start_time": "2025-02-22T19:05:49.118Z"
   },
   {
    "duration": 5,
    "start_time": "2025-02-22T19:06:55.207Z"
   },
   {
    "duration": 7,
    "start_time": "2025-02-22T19:07:51.319Z"
   },
   {
    "duration": 9,
    "start_time": "2025-02-22T19:08:42.766Z"
   },
   {
    "duration": 16,
    "start_time": "2025-02-22T19:15:28.035Z"
   },
   {
    "duration": 40,
    "start_time": "2025-02-22T19:16:50.902Z"
   },
   {
    "duration": 2,
    "start_time": "2025-02-22T19:17:41.622Z"
   },
   {
    "duration": 116,
    "start_time": "2025-02-22T19:17:51.008Z"
   },
   {
    "duration": 93,
    "start_time": "2025-02-22T19:17:59.692Z"
   },
   {
    "duration": 3,
    "start_time": "2025-02-22T19:18:48.793Z"
   },
   {
    "duration": 39,
    "start_time": "2025-02-22T19:22:02.430Z"
   },
   {
    "duration": 349,
    "start_time": "2025-02-22T20:35:27.387Z"
   },
   {
    "duration": 7,
    "start_time": "2025-02-22T20:35:51.242Z"
   },
   {
    "duration": 344,
    "start_time": "2025-02-22T20:36:07.187Z"
   },
   {
    "duration": 38,
    "start_time": "2025-02-22T20:39:02.390Z"
   },
   {
    "duration": 2,
    "start_time": "2025-02-22T20:39:53.749Z"
   },
   {
    "duration": 158,
    "start_time": "2025-02-24T17:07:14.987Z"
   },
   {
    "duration": 15,
    "start_time": "2025-02-24T17:08:41.153Z"
   },
   {
    "duration": 12,
    "start_time": "2025-02-24T17:09:24.104Z"
   },
   {
    "duration": 13,
    "start_time": "2025-02-24T17:10:02.523Z"
   },
   {
    "duration": 12,
    "start_time": "2025-02-24T17:15:42.440Z"
   },
   {
    "duration": 11,
    "start_time": "2025-02-24T17:16:57.048Z"
   },
   {
    "duration": 4,
    "start_time": "2025-02-24T17:17:42.896Z"
   },
   {
    "duration": 278,
    "start_time": "2025-02-24T17:17:57.846Z"
   },
   {
    "duration": 2316,
    "start_time": "2025-02-24T17:17:59.327Z"
   },
   {
    "duration": 33,
    "start_time": "2025-02-24T17:18:01.646Z"
   },
   {
    "duration": 12,
    "start_time": "2025-02-24T17:18:02.043Z"
   },
   {
    "duration": 9,
    "start_time": "2025-02-24T17:18:02.298Z"
   },
   {
    "duration": 9,
    "start_time": "2025-02-24T17:18:02.519Z"
   },
   {
    "duration": 8,
    "start_time": "2025-02-24T17:18:02.761Z"
   },
   {
    "duration": 183,
    "start_time": "2025-02-24T17:18:04.429Z"
   },
   {
    "duration": 6,
    "start_time": "2025-02-24T17:18:04.816Z"
   },
   {
    "duration": 3,
    "start_time": "2025-02-24T17:18:05.016Z"
   },
   {
    "duration": 191,
    "start_time": "2025-02-24T17:18:05.811Z"
   },
   {
    "duration": 183,
    "start_time": "2025-02-24T17:18:06.004Z"
   },
   {
    "duration": 4,
    "start_time": "2025-02-24T17:18:06.189Z"
   },
   {
    "duration": 12,
    "start_time": "2025-02-24T17:18:06.879Z"
   },
   {
    "duration": 4,
    "start_time": "2025-02-24T17:18:07.068Z"
   },
   {
    "duration": 34,
    "start_time": "2025-02-24T17:18:07.272Z"
   },
   {
    "duration": 37,
    "start_time": "2025-02-24T17:18:07.465Z"
   },
   {
    "duration": 4,
    "start_time": "2025-02-24T17:18:08.596Z"
   },
   {
    "duration": 4,
    "start_time": "2025-02-24T17:18:08.783Z"
   },
   {
    "duration": 5,
    "start_time": "2025-02-24T17:18:09.630Z"
   },
   {
    "duration": 4,
    "start_time": "2025-02-24T17:18:09.818Z"
   },
   {
    "duration": 2353,
    "start_time": "2025-02-24T17:18:10.663Z"
   },
   {
    "duration": 2336,
    "start_time": "2025-02-24T17:18:13.019Z"
   },
   {
    "duration": 15,
    "start_time": "2025-02-24T17:18:15.357Z"
   },
   {
    "duration": 5,
    "start_time": "2025-02-24T17:18:15.374Z"
   },
   {
    "duration": 4,
    "start_time": "2025-02-24T17:18:15.380Z"
   },
   {
    "duration": 5,
    "start_time": "2025-02-24T17:18:15.386Z"
   },
   {
    "duration": 7,
    "start_time": "2025-02-24T17:18:15.393Z"
   },
   {
    "duration": 17,
    "start_time": "2025-02-24T17:18:15.659Z"
   },
   {
    "duration": 341,
    "start_time": "2025-02-24T17:18:15.833Z"
   },
   {
    "duration": 122,
    "start_time": "2025-02-24T17:18:19.319Z"
   },
   {
    "duration": 587,
    "start_time": "2025-02-24T17:18:21.382Z"
   },
   {
    "duration": 39,
    "start_time": "2025-02-24T17:18:22.519Z"
   },
   {
    "duration": 38,
    "start_time": "2025-02-24T17:18:43.129Z"
   },
   {
    "duration": 49,
    "start_time": "2025-02-24T17:18:46.481Z"
   },
   {
    "duration": 38,
    "start_time": "2025-02-24T17:19:10.789Z"
   },
   {
    "duration": 37,
    "start_time": "2025-02-24T17:19:35.978Z"
   },
   {
    "duration": 37,
    "start_time": "2025-02-24T17:19:47.482Z"
   },
   {
    "duration": 122,
    "start_time": "2025-02-24T17:22:30.697Z"
   },
   {
    "duration": 2,
    "start_time": "2025-02-24T17:25:32.355Z"
   },
   {
    "duration": 3,
    "start_time": "2025-02-24T17:25:37.923Z"
   },
   {
    "duration": 2,
    "start_time": "2025-02-24T17:25:57.768Z"
   },
   {
    "duration": 2,
    "start_time": "2025-02-24T17:26:05.249Z"
   },
   {
    "duration": 4132,
    "start_time": "2025-02-24T17:41:50.196Z"
   },
   {
    "duration": 41,
    "start_time": "2025-02-24T17:42:44.907Z"
   },
   {
    "duration": 2,
    "start_time": "2025-02-24T17:43:34.300Z"
   },
   {
    "duration": 39,
    "start_time": "2025-02-24T17:43:56.129Z"
   },
   {
    "duration": 3,
    "start_time": "2025-02-24T17:44:02.875Z"
   },
   {
    "duration": 39,
    "start_time": "2025-02-24T17:44:13.997Z"
   },
   {
    "duration": 3,
    "start_time": "2025-02-24T17:44:21.584Z"
   },
   {
    "duration": 38,
    "start_time": "2025-02-24T17:53:22.819Z"
   },
   {
    "duration": 87,
    "start_time": "2025-02-24T17:54:31.183Z"
   },
   {
    "duration": 2,
    "start_time": "2025-02-24T17:54:38.522Z"
   },
   {
    "duration": 38,
    "start_time": "2025-02-24T17:59:33.491Z"
   },
   {
    "duration": 22,
    "start_time": "2025-02-24T18:00:51.631Z"
   },
   {
    "duration": 2140,
    "start_time": "2025-02-24T18:00:54.803Z"
   },
   {
    "duration": 2162,
    "start_time": "2025-02-24T18:01:25.121Z"
   },
   {
    "duration": 161,
    "start_time": "2025-02-24T18:01:44.193Z"
   },
   {
    "duration": 13,
    "start_time": "2025-02-24T18:03:18.033Z"
   },
   {
    "duration": 12,
    "start_time": "2025-02-24T18:05:04.170Z"
   },
   {
    "duration": 16,
    "start_time": "2025-02-24T18:05:09.245Z"
   },
   {
    "duration": 14,
    "start_time": "2025-02-24T18:05:13.942Z"
   },
   {
    "duration": 12,
    "start_time": "2025-02-24T18:05:15.518Z"
   },
   {
    "duration": 297,
    "start_time": "2025-02-24T18:05:34.065Z"
   },
   {
    "duration": 2195,
    "start_time": "2025-02-24T18:05:35.269Z"
   },
   {
    "duration": 22,
    "start_time": "2025-02-24T18:05:37.466Z"
   },
   {
    "duration": 11,
    "start_time": "2025-02-24T18:05:37.490Z"
   },
   {
    "duration": 171,
    "start_time": "2025-02-24T18:05:39.810Z"
   },
   {
    "duration": 0,
    "start_time": "2025-02-24T18:05:39.983Z"
   },
   {
    "duration": 1,
    "start_time": "2025-02-24T18:05:39.984Z"
   },
   {
    "duration": 11,
    "start_time": "2025-02-24T18:05:40.169Z"
   },
   {
    "duration": 13,
    "start_time": "2025-02-24T18:05:40.481Z"
   },
   {
    "duration": 11,
    "start_time": "2025-02-24T18:05:41.071Z"
   },
   {
    "duration": 14,
    "start_time": "2025-02-24T18:05:41.266Z"
   },
   {
    "duration": 12,
    "start_time": "2025-02-24T18:05:41.826Z"
   },
   {
    "duration": 13,
    "start_time": "2025-02-24T18:05:42.613Z"
   },
   {
    "duration": 32,
    "start_time": "2025-02-24T18:05:42.804Z"
   },
   {
    "duration": 14,
    "start_time": "2025-02-24T18:05:42.993Z"
   },
   {
    "duration": 15,
    "start_time": "2025-02-24T18:05:43.350Z"
   },
   {
    "duration": 13,
    "start_time": "2025-02-24T18:05:45.696Z"
   },
   {
    "duration": 14,
    "start_time": "2025-02-24T18:05:45.885Z"
   },
   {
    "duration": 14,
    "start_time": "2025-02-24T18:05:46.656Z"
   },
   {
    "duration": 16,
    "start_time": "2025-02-24T18:05:46.848Z"
   },
   {
    "duration": 14,
    "start_time": "2025-02-24T18:05:47.667Z"
   },
   {
    "duration": 12,
    "start_time": "2025-02-24T18:05:47.867Z"
   },
   {
    "duration": 12,
    "start_time": "2025-02-24T18:05:48.862Z"
   },
   {
    "duration": 16,
    "start_time": "2025-02-24T18:05:49.445Z"
   },
   {
    "duration": 12,
    "start_time": "2025-02-24T18:05:50.037Z"
   },
   {
    "duration": 14,
    "start_time": "2025-02-24T18:05:50.687Z"
   },
   {
    "duration": 12,
    "start_time": "2025-02-24T18:05:51.219Z"
   },
   {
    "duration": 13,
    "start_time": "2025-02-24T18:05:52.018Z"
   },
   {
    "duration": 12,
    "start_time": "2025-02-24T18:05:52.209Z"
   },
   {
    "duration": 12,
    "start_time": "2025-02-24T18:05:53.206Z"
   },
   {
    "duration": 12,
    "start_time": "2025-02-24T18:05:53.403Z"
   },
   {
    "duration": 12,
    "start_time": "2025-02-24T18:05:53.861Z"
   },
   {
    "duration": 2,
    "start_time": "2025-02-24T18:05:54.288Z"
   },
   {
    "duration": 259,
    "start_time": "2025-02-24T18:06:33.768Z"
   },
   {
    "duration": 2093,
    "start_time": "2025-02-24T18:06:34.331Z"
   },
   {
    "duration": 24,
    "start_time": "2025-02-24T18:06:36.427Z"
   },
   {
    "duration": 21,
    "start_time": "2025-02-24T18:06:36.453Z"
   },
   {
    "duration": 9,
    "start_time": "2025-02-24T18:06:36.477Z"
   },
   {
    "duration": 163,
    "start_time": "2025-02-24T18:06:39.738Z"
   },
   {
    "duration": 0,
    "start_time": "2025-02-24T18:06:39.903Z"
   },
   {
    "duration": 0,
    "start_time": "2025-02-24T18:06:39.904Z"
   },
   {
    "duration": 13,
    "start_time": "2025-02-24T18:06:44.627Z"
   },
   {
    "duration": 5,
    "start_time": "2025-02-24T18:11:12.436Z"
   },
   {
    "duration": 155,
    "start_time": "2025-02-24T18:11:15.832Z"
   },
   {
    "duration": 4,
    "start_time": "2025-02-24T18:11:30.610Z"
   },
   {
    "duration": 157,
    "start_time": "2025-02-24T18:11:33.769Z"
   },
   {
    "duration": 0,
    "start_time": "2025-02-24T18:11:33.928Z"
   },
   {
    "duration": 0,
    "start_time": "2025-02-24T18:11:33.929Z"
   },
   {
    "duration": 13,
    "start_time": "2025-02-24T18:11:33.990Z"
   },
   {
    "duration": 13,
    "start_time": "2025-02-24T18:11:37.056Z"
   },
   {
    "duration": 11,
    "start_time": "2025-02-24T18:11:40.149Z"
   },
   {
    "duration": 6,
    "start_time": "2025-02-24T18:12:01.970Z"
   },
   {
    "duration": 158,
    "start_time": "2025-02-24T18:12:05.221Z"
   },
   {
    "duration": 0,
    "start_time": "2025-02-24T18:12:05.381Z"
   },
   {
    "duration": 6,
    "start_time": "2025-02-24T19:05:11.544Z"
   },
   {
    "duration": 162,
    "start_time": "2025-02-24T19:05:19.642Z"
   },
   {
    "duration": 4,
    "start_time": "2025-02-24T19:05:25.616Z"
   },
   {
    "duration": 158,
    "start_time": "2025-02-24T19:05:28.631Z"
   },
   {
    "duration": 13,
    "start_time": "2025-02-24T19:05:29.104Z"
   },
   {
    "duration": 15,
    "start_time": "2025-02-24T19:08:08.049Z"
   },
   {
    "duration": 12,
    "start_time": "2025-02-24T19:08:10.451Z"
   },
   {
    "duration": 17,
    "start_time": "2025-02-24T19:08:12.170Z"
   },
   {
    "duration": 283,
    "start_time": "2025-02-24T19:08:17.949Z"
   },
   {
    "duration": 2184,
    "start_time": "2025-02-24T19:08:18.965Z"
   },
   {
    "duration": 23,
    "start_time": "2025-02-24T19:08:21.151Z"
   },
   {
    "duration": 332,
    "start_time": "2025-02-26T01:15:53.600Z"
   },
   {
    "duration": 2396,
    "start_time": "2025-02-26T01:15:54.999Z"
   },
   {
    "duration": 23,
    "start_time": "2025-02-26T01:15:57.398Z"
   },
   {
    "duration": 157,
    "start_time": "2025-02-26T01:16:27.651Z"
   },
   {
    "duration": 12,
    "start_time": "2025-02-26T01:16:29.305Z"
   },
   {
    "duration": 11,
    "start_time": "2025-02-26T01:16:31.000Z"
   },
   {
    "duration": 311,
    "start_time": "2025-02-26T01:16:35.982Z"
   },
   {
    "duration": 2142,
    "start_time": "2025-02-26T01:16:37.193Z"
   },
   {
    "duration": 22,
    "start_time": "2025-02-26T01:16:39.375Z"
   },
   {
    "duration": 270,
    "start_time": "2025-02-26T02:11:52.146Z"
   },
   {
    "duration": 2134,
    "start_time": "2025-02-26T02:11:58.601Z"
   },
   {
    "duration": 162,
    "start_time": "2025-02-26T02:12:02.151Z"
   },
   {
    "duration": 352,
    "start_time": "2025-02-26T02:12:07.611Z"
   },
   {
    "duration": 2152,
    "start_time": "2025-02-26T02:12:10.030Z"
   },
   {
    "duration": 300,
    "start_time": "2025-02-26T02:46:53.104Z"
   },
   {
    "duration": 2161,
    "start_time": "2025-02-26T02:46:53.989Z"
   },
   {
    "duration": 25,
    "start_time": "2025-02-26T02:46:56.153Z"
   },
   {
    "duration": 157,
    "start_time": "2025-02-26T02:47:02.089Z"
   },
   {
    "duration": 4,
    "start_time": "2025-02-26T02:47:08.247Z"
   },
   {
    "duration": 155,
    "start_time": "2025-02-26T02:47:10.369Z"
   },
   {
    "duration": 12,
    "start_time": "2025-02-26T02:47:19.566Z"
   },
   {
    "duration": 13,
    "start_time": "2025-02-26T02:47:21.109Z"
   },
   {
    "duration": 292,
    "start_time": "2025-02-26T12:16:56.400Z"
   },
   {
    "duration": 2295,
    "start_time": "2025-02-26T12:16:57.902Z"
   },
   {
    "duration": 23,
    "start_time": "2025-02-26T12:17:00.199Z"
   },
   {
    "duration": 333,
    "start_time": "2025-02-26T12:17:25.116Z"
   },
   {
    "duration": 2101,
    "start_time": "2025-02-26T12:17:25.451Z"
   },
   {
    "duration": 25,
    "start_time": "2025-02-26T12:17:27.554Z"
   },
   {
    "duration": 11,
    "start_time": "2025-02-26T12:17:27.580Z"
   },
   {
    "duration": 25,
    "start_time": "2025-02-26T12:17:27.592Z"
   },
   {
    "duration": 8,
    "start_time": "2025-02-26T12:17:27.619Z"
   },
   {
    "duration": 7,
    "start_time": "2025-02-26T12:17:27.629Z"
   },
   {
    "duration": 215,
    "start_time": "2025-02-26T12:17:27.638Z"
   },
   {
    "duration": 6,
    "start_time": "2025-02-26T12:17:27.855Z"
   },
   {
    "duration": 163,
    "start_time": "2025-02-26T12:17:50.236Z"
   },
   {
    "duration": 14,
    "start_time": "2025-02-26T12:17:58.392Z"
   },
   {
    "duration": 321,
    "start_time": "2025-02-26T12:24:41.795Z"
   },
   {
    "duration": 2315,
    "start_time": "2025-02-26T12:24:44.823Z"
   },
   {
    "duration": 319,
    "start_time": "2025-02-26T16:58:51.845Z"
   },
   {
    "duration": 2183,
    "start_time": "2025-02-26T16:58:52.737Z"
   },
   {
    "duration": 28,
    "start_time": "2025-02-26T16:58:54.923Z"
   },
   {
    "duration": 11,
    "start_time": "2025-02-26T16:58:54.954Z"
   },
   {
    "duration": 9,
    "start_time": "2025-02-26T16:58:54.968Z"
   },
   {
    "duration": 168,
    "start_time": "2025-02-26T16:58:57.592Z"
   },
   {
    "duration": 3,
    "start_time": "2025-02-26T18:22:39.655Z"
   },
   {
    "duration": 153,
    "start_time": "2025-02-26T18:22:42.631Z"
   },
   {
    "duration": 1,
    "start_time": "2025-02-26T18:22:42.786Z"
   },
   {
    "duration": 4,
    "start_time": "2025-02-26T19:00:55.085Z"
   },
   {
    "duration": 156,
    "start_time": "2025-02-26T19:00:57.764Z"
   },
   {
    "duration": 12,
    "start_time": "2025-02-26T19:00:59.602Z"
   },
   {
    "duration": 13,
    "start_time": "2025-02-26T19:01:00.514Z"
   },
   {
    "duration": 11,
    "start_time": "2025-02-26T19:01:01.842Z"
   },
   {
    "duration": 11,
    "start_time": "2025-02-26T19:01:02.472Z"
   },
   {
    "duration": 14,
    "start_time": "2025-02-26T19:01:04.806Z"
   },
   {
    "duration": 18,
    "start_time": "2025-02-26T19:01:05.180Z"
   },
   {
    "duration": 33,
    "start_time": "2025-02-26T19:01:05.779Z"
   },
   {
    "duration": 16,
    "start_time": "2025-02-26T19:01:07.233Z"
   },
   {
    "duration": 13,
    "start_time": "2025-02-26T19:01:07.635Z"
   },
   {
    "duration": 7,
    "start_time": "2025-02-28T17:22:35.381Z"
   },
   {
    "duration": 159,
    "start_time": "2025-02-28T17:23:02.283Z"
   },
   {
    "duration": 7,
    "start_time": "2025-02-28T17:23:19.104Z"
   },
   {
    "duration": 5,
    "start_time": "2025-02-28T17:23:35.038Z"
   },
   {
    "duration": 13,
    "start_time": "2025-02-28T17:23:38.744Z"
   },
   {
    "duration": 269,
    "start_time": "2025-02-28T17:23:56.223Z"
   },
   {
    "duration": 35,
    "start_time": "2025-02-28T17:24:02.672Z"
   },
   {
    "duration": 18,
    "start_time": "2025-02-28T17:24:12.946Z"
   },
   {
    "duration": 12,
    "start_time": "2025-02-28T17:24:15.210Z"
   },
   {
    "duration": 2165,
    "start_time": "2025-02-28T17:25:46.678Z"
   },
   {
    "duration": 6,
    "start_time": "2025-02-28T17:25:59.382Z"
   },
   {
    "duration": 2262,
    "start_time": "2025-02-28T17:26:08.649Z"
   },
   {
    "duration": 27,
    "start_time": "2025-02-28T17:27:05.847Z"
   },
   {
    "duration": 10,
    "start_time": "2025-02-28T17:27:08.403Z"
   },
   {
    "duration": 8,
    "start_time": "2025-02-28T17:27:09.212Z"
   },
   {
    "duration": 8,
    "start_time": "2025-02-28T17:27:09.924Z"
   },
   {
    "duration": 123,
    "start_time": "2025-02-28T17:27:10.663Z"
   },
   {
    "duration": 236,
    "start_time": "2025-02-28T17:27:54.925Z"
   },
   {
    "duration": 7,
    "start_time": "2025-02-28T17:27:57.436Z"
   },
   {
    "duration": 4,
    "start_time": "2025-02-28T17:27:58.433Z"
   },
   {
    "duration": 16,
    "start_time": "2025-02-28T17:28:42.369Z"
   },
   {
    "duration": 333,
    "start_time": "2025-02-28T17:28:43.091Z"
   },
   {
    "duration": 120,
    "start_time": "2025-02-28T17:28:46.868Z"
   },
   {
    "duration": 4219,
    "start_time": "2025-02-28T17:28:48.897Z"
   },
   {
    "duration": 455,
    "start_time": "2025-02-28T17:29:01.016Z"
   },
   {
    "duration": 3,
    "start_time": "2025-02-28T17:29:12.768Z"
   },
   {
    "duration": 43,
    "start_time": "2025-02-28T17:29:15.429Z"
   },
   {
    "duration": 3,
    "start_time": "2025-02-28T17:29:23.422Z"
   },
   {
    "duration": 43,
    "start_time": "2025-02-28T17:29:25.823Z"
   },
   {
    "duration": 3,
    "start_time": "2025-02-28T17:29:30.912Z"
   },
   {
    "duration": 178,
    "start_time": "2025-02-28T17:29:42.738Z"
   },
   {
    "duration": 173,
    "start_time": "2025-02-28T17:29:44.843Z"
   },
   {
    "duration": 6,
    "start_time": "2025-02-28T17:29:45.887Z"
   },
   {
    "duration": 225,
    "start_time": "2025-02-28T17:29:48.279Z"
   },
   {
    "duration": 193,
    "start_time": "2025-02-28T17:29:53.935Z"
   },
   {
    "duration": 15,
    "start_time": "2025-02-28T17:29:57.151Z"
   },
   {
    "duration": 3,
    "start_time": "2025-02-28T17:29:57.759Z"
   },
   {
    "duration": 36,
    "start_time": "2025-02-28T17:29:58.334Z"
   },
   {
    "duration": 35,
    "start_time": "2025-02-28T17:29:59.272Z"
   },
   {
    "duration": 5,
    "start_time": "2025-02-28T17:30:04.373Z"
   },
   {
    "duration": 4,
    "start_time": "2025-02-28T17:30:05.006Z"
   },
   {
    "duration": 4,
    "start_time": "2025-02-28T17:30:07.787Z"
   },
   {
    "duration": 4,
    "start_time": "2025-02-28T17:30:08.374Z"
   },
   {
    "duration": 2367,
    "start_time": "2025-02-28T17:30:21.547Z"
   },
   {
    "duration": 2409,
    "start_time": "2025-02-28T17:30:23.917Z"
   },
   {
    "duration": 8,
    "start_time": "2025-02-28T17:30:31.955Z"
   },
   {
    "duration": 4,
    "start_time": "2025-02-28T17:30:35.622Z"
   },
   {
    "duration": 7,
    "start_time": "2025-02-28T17:30:41.025Z"
   },
   {
    "duration": 10,
    "start_time": "2025-02-28T17:30:43.821Z"
   },
   {
    "duration": 40,
    "start_time": "2025-02-28T17:31:32.079Z"
   },
   {
    "duration": 43,
    "start_time": "2025-02-28T17:32:11.548Z"
   },
   {
    "duration": 3,
    "start_time": "2025-02-28T17:32:38.144Z"
   },
   {
    "duration": 2,
    "start_time": "2025-02-28T17:32:41.324Z"
   },
   {
    "duration": 47,
    "start_time": "2025-02-28T17:46:51.016Z"
   },
   {
    "duration": 3,
    "start_time": "2025-02-28T17:48:15.191Z"
   },
   {
    "duration": 43,
    "start_time": "2025-02-28T17:50:02.704Z"
   },
   {
    "duration": 110,
    "start_time": "2025-02-28T17:50:20.269Z"
   },
   {
    "duration": 47,
    "start_time": "2025-02-28T17:50:31.638Z"
   },
   {
    "duration": 3,
    "start_time": "2025-02-28T17:51:45.558Z"
   },
   {
    "duration": 2,
    "start_time": "2025-02-28T17:54:59.739Z"
   },
   {
    "duration": 51,
    "start_time": "2025-02-28T17:58:04.968Z"
   },
   {
    "duration": 5,
    "start_time": "2025-02-28T18:01:23.971Z"
   },
   {
    "duration": 41,
    "start_time": "2025-02-28T18:02:07.785Z"
   },
   {
    "duration": 5,
    "start_time": "2025-02-28T18:04:02.260Z"
   },
   {
    "duration": 6,
    "start_time": "2025-02-28T18:04:37.297Z"
   },
   {
    "duration": 2347,
    "start_time": "2025-02-28T18:16:25.054Z"
   },
   {
    "duration": 5,
    "start_time": "2025-02-28T18:16:35.348Z"
   },
   {
    "duration": 5,
    "start_time": "2025-02-28T18:16:44.546Z"
   },
   {
    "duration": 3,
    "start_time": "2025-02-28T18:16:47.424Z"
   },
   {
    "duration": 5,
    "start_time": "2025-02-28T18:30:03.758Z"
   },
   {
    "duration": 3,
    "start_time": "2025-02-28T18:30:04.931Z"
   },
   {
    "duration": 14,
    "start_time": "2025-02-28T18:30:13.021Z"
   },
   {
    "duration": 14,
    "start_time": "2025-02-28T18:30:17.863Z"
   },
   {
    "duration": 15,
    "start_time": "2025-02-28T18:32:36.712Z"
   },
   {
    "duration": 14,
    "start_time": "2025-02-28T18:32:39.468Z"
   },
   {
    "duration": 16,
    "start_time": "2025-02-28T18:32:53.016Z"
   },
   {
    "duration": 44,
    "start_time": "2025-02-28T18:34:16.320Z"
   },
   {
    "duration": 41,
    "start_time": "2025-02-28T18:34:28.407Z"
   },
   {
    "duration": 45,
    "start_time": "2025-02-28T18:37:18.439Z"
   },
   {
    "duration": 43,
    "start_time": "2025-02-28T18:46:08.713Z"
   },
   {
    "duration": 15,
    "start_time": "2025-02-28T18:47:35.044Z"
   },
   {
    "duration": 876,
    "start_time": "2025-03-01T09:29:53.329Z"
   },
   {
    "duration": 2607,
    "start_time": "2025-03-01T09:29:54.207Z"
   },
   {
    "duration": 2868,
    "start_time": "2025-03-01T09:30:14.467Z"
   },
   {
    "duration": 19,
    "start_time": "2025-03-01T09:30:18.667Z"
   },
   {
    "duration": 10,
    "start_time": "2025-03-01T09:30:18.902Z"
   },
   {
    "duration": 9,
    "start_time": "2025-03-01T09:30:19.106Z"
   },
   {
    "duration": 9,
    "start_time": "2025-03-01T09:30:19.607Z"
   },
   {
    "duration": 23,
    "start_time": "2025-03-01T09:30:20.011Z"
   },
   {
    "duration": 167,
    "start_time": "2025-03-01T09:30:49.276Z"
   },
   {
    "duration": 6,
    "start_time": "2025-03-01T09:30:49.672Z"
   },
   {
    "duration": 4,
    "start_time": "2025-03-01T09:30:49.968Z"
   },
   {
    "duration": 161,
    "start_time": "2025-03-01T09:30:51.214Z"
   },
   {
    "duration": 183,
    "start_time": "2025-03-01T09:30:51.427Z"
   },
   {
    "duration": 3,
    "start_time": "2025-03-01T09:30:51.827Z"
   },
   {
    "duration": 15,
    "start_time": "2025-03-01T09:31:09.638Z"
   },
   {
    "duration": 3,
    "start_time": "2025-03-01T09:31:09.980Z"
   },
   {
    "duration": 33,
    "start_time": "2025-03-01T09:31:10.401Z"
   },
   {
    "duration": 33,
    "start_time": "2025-03-01T09:31:10.764Z"
   },
   {
    "duration": 4,
    "start_time": "2025-03-01T09:31:24.786Z"
   },
   {
    "duration": 4,
    "start_time": "2025-03-01T09:31:25.212Z"
   },
   {
    "duration": 4,
    "start_time": "2025-03-01T09:31:49.599Z"
   },
   {
    "duration": 4,
    "start_time": "2025-03-01T09:31:49.764Z"
   },
   {
    "duration": 734,
    "start_time": "2025-03-01T09:31:50.457Z"
   },
   {
    "duration": 760,
    "start_time": "2025-03-01T09:31:51.193Z"
   },
   {
    "duration": 7,
    "start_time": "2025-03-01T09:32:57.738Z"
   },
   {
    "duration": 82,
    "start_time": "2025-03-01T09:33:00.555Z"
   },
   {
    "duration": 4,
    "start_time": "2025-03-01T09:33:01.797Z"
   },
   {
    "duration": 6,
    "start_time": "2025-03-01T09:33:03.025Z"
   },
   {
    "duration": 7,
    "start_time": "2025-03-01T09:33:06.897Z"
   },
   {
    "duration": 17,
    "start_time": "2025-03-01T09:33:28.010Z"
   },
   {
    "duration": 319,
    "start_time": "2025-03-01T09:33:28.225Z"
   },
   {
    "duration": 15,
    "start_time": "2025-03-01T09:33:39.120Z"
   },
   {
    "duration": 498,
    "start_time": "2025-03-01T09:33:39.366Z"
   },
   {
    "duration": 113,
    "start_time": "2025-03-01T09:33:41.461Z"
   },
   {
    "duration": 8,
    "start_time": "2025-03-01T09:33:42.857Z"
   },
   {
    "duration": 116,
    "start_time": "2025-03-01T09:34:24.196Z"
   },
   {
    "duration": 399,
    "start_time": "2025-03-01T09:34:26.542Z"
   },
   {
    "duration": 9,
    "start_time": "2025-03-01T09:34:42.557Z"
   },
   {
    "duration": 41,
    "start_time": "2025-03-01T09:35:32.169Z"
   },
   {
    "duration": 42,
    "start_time": "2025-03-01T09:35:35.993Z"
   },
   {
    "duration": 43,
    "start_time": "2025-03-01T09:35:39.456Z"
   },
   {
    "duration": 43,
    "start_time": "2025-03-01T09:35:41.344Z"
   },
   {
    "duration": 44,
    "start_time": "2025-03-01T09:35:46.815Z"
   },
   {
    "duration": 14,
    "start_time": "2025-03-01T09:35:47.471Z"
   },
   {
    "duration": 17,
    "start_time": "2025-03-01T09:35:48.954Z"
   },
   {
    "duration": 161,
    "start_time": "2025-03-01T09:35:49.184Z"
   },
   {
    "duration": 41,
    "start_time": "2025-03-01T09:35:53.651Z"
   },
   {
    "duration": 18,
    "start_time": "2025-03-01T09:35:53.882Z"
   },
   {
    "duration": 160,
    "start_time": "2025-03-01T16:17:03.930Z"
   },
   {
    "duration": 15,
    "start_time": "2025-03-01T16:18:06.540Z"
   },
   {
    "duration": 2554,
    "start_time": "2025-03-01T16:18:34.710Z"
   },
   {
    "duration": 2365,
    "start_time": "2025-03-01T16:18:37.266Z"
   },
   {
    "duration": 488,
    "start_time": "2025-03-01T16:18:48.536Z"
   },
   {
    "duration": 41,
    "start_time": "2025-03-01T16:19:02.629Z"
   },
   {
    "duration": 42,
    "start_time": "2025-03-01T16:21:09.070Z"
   },
   {
    "duration": 114,
    "start_time": "2025-03-01T16:22:05.787Z"
   },
   {
    "duration": 40,
    "start_time": "2025-03-01T16:22:23.230Z"
   },
   {
    "duration": 42,
    "start_time": "2025-03-01T16:22:30.367Z"
   },
   {
    "duration": 2,
    "start_time": "2025-03-01T17:30:37.218Z"
   },
   {
    "duration": 2270,
    "start_time": "2025-03-01T17:31:27.775Z"
   },
   {
    "duration": 2277,
    "start_time": "2025-03-01T17:31:47.913Z"
   },
   {
    "duration": 2280,
    "start_time": "2025-03-01T17:32:01.495Z"
   },
   {
    "duration": 2597,
    "start_time": "2025-03-01T17:35:28.859Z"
   },
   {
    "duration": 2207,
    "start_time": "2025-03-01T17:57:47.893Z"
   },
   {
    "duration": 5,
    "start_time": "2025-03-01T17:58:40.577Z"
   },
   {
    "duration": 3,
    "start_time": "2025-03-01T17:58:54.939Z"
   },
   {
    "duration": 152,
    "start_time": "2025-03-01T18:03:08.874Z"
   },
   {
    "duration": 2204,
    "start_time": "2025-03-01T18:03:36.677Z"
   },
   {
    "duration": 12,
    "start_time": "2025-03-01T18:04:06.270Z"
   },
   {
    "duration": 4,
    "start_time": "2025-03-01T18:04:17.748Z"
   },
   {
    "duration": 19,
    "start_time": "2025-03-01T18:04:33.952Z"
   },
   {
    "duration": 14,
    "start_time": "2025-03-01T18:04:45.975Z"
   },
   {
    "duration": 4,
    "start_time": "2025-03-01T18:05:16.620Z"
   },
   {
    "duration": 4,
    "start_time": "2025-03-01T18:05:21.591Z"
   },
   {
    "duration": 7,
    "start_time": "2025-03-01T18:06:13.912Z"
   },
   {
    "duration": 393,
    "start_time": "2025-03-01T18:06:33.341Z"
   },
   {
    "duration": 309,
    "start_time": "2025-03-01T18:07:06.230Z"
   },
   {
    "duration": 293,
    "start_time": "2025-03-01T18:09:11.635Z"
   },
   {
    "duration": 350,
    "start_time": "2025-03-01T18:10:17.320Z"
   },
   {
    "duration": 18,
    "start_time": "2025-03-01T18:11:11.762Z"
   },
   {
    "duration": 22,
    "start_time": "2025-03-01T18:13:09.805Z"
   },
   {
    "duration": 10,
    "start_time": "2025-03-01T18:13:13.245Z"
   },
   {
    "duration": 5,
    "start_time": "2025-03-01T18:13:14.777Z"
   },
   {
    "duration": 9,
    "start_time": "2025-03-01T18:13:15.806Z"
   },
   {
    "duration": 468,
    "start_time": "2025-03-01T18:13:17.184Z"
   },
   {
    "duration": 6,
    "start_time": "2025-03-01T18:14:04.029Z"
   },
   {
    "duration": 338,
    "start_time": "2025-03-01T18:15:08.779Z"
   },
   {
    "duration": 19,
    "start_time": "2025-03-01T18:17:23.262Z"
   },
   {
    "duration": 295,
    "start_time": "2025-03-01T18:17:38.325Z"
   },
   {
    "duration": 45,
    "start_time": "2025-03-01T18:21:52.224Z"
   },
   {
    "duration": 13,
    "start_time": "2025-03-01T18:21:53.061Z"
   },
   {
    "duration": 14,
    "start_time": "2025-03-01T18:21:53.890Z"
   },
   {
    "duration": 42,
    "start_time": "2025-03-01T18:22:22.194Z"
   },
   {
    "duration": 1950,
    "start_time": "2025-03-01T18:23:56.050Z"
   },
   {
    "duration": 47,
    "start_time": "2025-03-01T18:24:11.000Z"
   },
   {
    "duration": 17,
    "start_time": "2025-03-01T18:26:25.017Z"
   },
   {
    "duration": 2081,
    "start_time": "2025-03-01T18:29:21.584Z"
   },
   {
    "duration": 168,
    "start_time": "2025-03-01T18:30:05.204Z"
   },
   {
    "duration": 1849,
    "start_time": "2025-03-01T18:35:15.971Z"
   },
   {
    "duration": 17,
    "start_time": "2025-03-01T18:35:56.601Z"
   },
   {
    "duration": 140,
    "start_time": "2025-03-01T18:36:56.970Z"
   },
   {
    "duration": 105,
    "start_time": "2025-03-01T18:37:58.626Z"
   },
   {
    "duration": 68,
    "start_time": "2025-03-01T18:38:10.475Z"
   },
   {
    "duration": 18,
    "start_time": "2025-03-01T18:38:39.360Z"
   },
   {
    "duration": 3,
    "start_time": "2025-03-01T18:39:36.688Z"
   },
   {
    "duration": 124,
    "start_time": "2025-03-01T18:40:37.119Z"
   },
   {
    "duration": 130,
    "start_time": "2025-03-01T18:40:44.255Z"
   },
   {
    "duration": 16,
    "start_time": "2025-03-01T18:41:14.288Z"
   },
   {
    "duration": 16,
    "start_time": "2025-03-01T18:41:51.801Z"
   },
   {
    "duration": 46,
    "start_time": "2025-03-01T18:42:29.809Z"
   },
   {
    "duration": 1318,
    "start_time": "2025-03-01T18:46:28.808Z"
   },
   {
    "duration": 1428,
    "start_time": "2025-03-01T18:46:48.501Z"
   },
   {
    "duration": 435,
    "start_time": "2025-03-01T18:47:39.479Z"
   },
   {
    "duration": 622,
    "start_time": "2025-03-01T18:48:17.052Z"
   },
   {
    "duration": 622,
    "start_time": "2025-03-01T18:48:37.051Z"
   },
   {
    "duration": 13,
    "start_time": "2025-03-01T18:49:07.967Z"
   },
   {
    "duration": 14,
    "start_time": "2025-03-01T18:49:28.836Z"
   },
   {
    "duration": 6,
    "start_time": "2025-03-01T18:49:29.306Z"
   },
   {
    "duration": 281,
    "start_time": "2025-03-01T18:49:29.790Z"
   },
   {
    "duration": 382,
    "start_time": "2025-03-01T18:50:04.682Z"
   },
   {
    "duration": 9,
    "start_time": "2025-03-01T18:50:06.912Z"
   },
   {
    "duration": 284,
    "start_time": "2025-03-01T18:50:07.391Z"
   },
   {
    "duration": 6,
    "start_time": "2025-03-01T18:50:46.787Z"
   },
   {
    "duration": 370,
    "start_time": "2025-03-01T18:51:04.867Z"
   },
   {
    "duration": 236,
    "start_time": "2025-03-01T18:51:16.446Z"
   },
   {
    "duration": 246,
    "start_time": "2025-03-01T18:51:34.961Z"
   },
   {
    "duration": 6,
    "start_time": "2025-03-01T18:52:05.892Z"
   },
   {
    "duration": 16,
    "start_time": "2025-03-01T18:52:31.235Z"
   },
   {
    "duration": 5,
    "start_time": "2025-03-01T18:52:34.631Z"
   },
   {
    "duration": 17,
    "start_time": "2025-03-01T18:53:43.250Z"
   },
   {
    "duration": 1648,
    "start_time": "2025-03-01T18:53:46.354Z"
   },
   {
    "duration": 10,
    "start_time": "2025-03-01T18:53:49.029Z"
   },
   {
    "duration": 1625,
    "start_time": "2025-03-01T18:55:42.460Z"
   },
   {
    "duration": 22,
    "start_time": "2025-03-01T18:55:44.087Z"
   },
   {
    "duration": 364,
    "start_time": "2025-03-01T18:56:04.247Z"
   },
   {
    "duration": 17,
    "start_time": "2025-03-01T19:01:02.410Z"
   },
   {
    "duration": 14,
    "start_time": "2025-03-01T19:01:02.931Z"
   },
   {
    "duration": 14,
    "start_time": "2025-03-01T19:01:36.610Z"
   },
   {
    "duration": 497,
    "start_time": "2025-03-01T19:01:51.090Z"
   },
   {
    "duration": 443,
    "start_time": "2025-03-01T19:02:09.090Z"
   },
   {
    "duration": 42,
    "start_time": "2025-03-01T19:02:42.002Z"
   },
   {
    "duration": 13,
    "start_time": "2025-03-01T19:02:45.685Z"
   },
   {
    "duration": 555,
    "start_time": "2025-03-01T19:03:36.163Z"
   },
   {
    "duration": 20,
    "start_time": "2025-03-01T19:13:43.595Z"
   },
   {
    "duration": 13,
    "start_time": "2025-03-01T19:13:44.086Z"
   },
   {
    "duration": 4,
    "start_time": "2025-03-01T19:13:47.456Z"
   },
   {
    "duration": 122,
    "start_time": "2025-03-01T19:13:47.945Z"
   },
   {
    "duration": 333,
    "start_time": "2025-03-01T19:21:20.255Z"
   },
   {
    "duration": 190,
    "start_time": "2025-03-01T19:21:34.588Z"
   },
   {
    "duration": 8,
    "start_time": "2025-03-01T19:21:51.636Z"
   },
   {
    "duration": 4,
    "start_time": "2025-03-01T19:22:20.350Z"
   },
   {
    "duration": 218,
    "start_time": "2025-03-01T19:22:48.235Z"
   },
   {
    "duration": 5,
    "start_time": "2025-03-01T19:24:27.717Z"
   },
   {
    "duration": 4,
    "start_time": "2025-03-01T19:24:31.132Z"
   },
   {
    "duration": 548,
    "start_time": "2025-03-01T19:24:58.358Z"
   },
   {
    "duration": 6,
    "start_time": "2025-03-01T19:27:13.005Z"
   },
   {
    "duration": 62,
    "start_time": "2025-03-01T19:28:02.908Z"
   },
   {
    "duration": 6,
    "start_time": "2025-03-01T19:29:00.238Z"
   },
   {
    "duration": 1441,
    "start_time": "2025-03-01T19:30:54.811Z"
   },
   {
    "duration": 1453,
    "start_time": "2025-03-01T19:31:06.713Z"
   },
   {
    "duration": 1476,
    "start_time": "2025-03-01T19:31:23.435Z"
   },
   {
    "duration": 7,
    "start_time": "2025-03-01T19:32:19.795Z"
   },
   {
    "duration": 5,
    "start_time": "2025-03-01T19:32:36.949Z"
   },
   {
    "duration": 4,
    "start_time": "2025-03-01T19:32:47.000Z"
   },
   {
    "duration": 187,
    "start_time": "2025-03-01T19:33:08.296Z"
   },
   {
    "duration": 190,
    "start_time": "2025-03-01T19:33:47.708Z"
   },
   {
    "duration": 4,
    "start_time": "2025-03-01T19:33:48.216Z"
   },
   {
    "duration": 45,
    "start_time": "2025-03-01T19:33:51.509Z"
   },
   {
    "duration": 365,
    "start_time": "2025-03-01T19:34:50.031Z"
   },
   {
    "duration": 215,
    "start_time": "2025-03-01T19:35:02.309Z"
   },
   {
    "duration": 9,
    "start_time": "2025-03-01T19:35:15.952Z"
   },
   {
    "duration": 4,
    "start_time": "2025-03-01T19:35:32.877Z"
   },
   {
    "duration": 227,
    "start_time": "2025-03-01T19:36:31.334Z"
   },
   {
    "duration": 330,
    "start_time": "2025-03-01T19:37:26.098Z"
   },
   {
    "duration": 1441,
    "start_time": "2025-03-01T19:38:43.750Z"
   },
   {
    "duration": 1461,
    "start_time": "2025-03-01T19:38:50.935Z"
   },
   {
    "duration": 387,
    "start_time": "2025-03-01T19:38:59.339Z"
   },
   {
    "duration": 218,
    "start_time": "2025-03-01T19:39:00.079Z"
   },
   {
    "duration": 8,
    "start_time": "2025-03-01T19:39:02.893Z"
   },
   {
    "duration": 6,
    "start_time": "2025-03-01T19:39:03.760Z"
   },
   {
    "duration": 13,
    "start_time": "2025-03-01T19:39:35.355Z"
   },
   {
    "duration": 67,
    "start_time": "2025-03-01T19:41:02.662Z"
   },
   {
    "duration": 43,
    "start_time": "2025-03-01T19:41:03.240Z"
   },
   {
    "duration": 42,
    "start_time": "2025-03-01T19:41:06.068Z"
   },
   {
    "duration": 14,
    "start_time": "2025-03-01T19:41:18.413Z"
   },
   {
    "duration": 5,
    "start_time": "2025-03-01T19:42:31.897Z"
   },
   {
    "duration": 14,
    "start_time": "2025-03-01T19:43:16.659Z"
   },
   {
    "duration": 13,
    "start_time": "2025-03-01T19:43:33.894Z"
   },
   {
    "duration": 13,
    "start_time": "2025-03-01T19:44:16.660Z"
   },
   {
    "duration": 14,
    "start_time": "2025-03-01T19:44:45.563Z"
   },
   {
    "duration": 62,
    "start_time": "2025-03-01T19:49:12.519Z"
   },
   {
    "duration": 2,
    "start_time": "2025-03-01T19:51:59.891Z"
   },
   {
    "duration": 77,
    "start_time": "2025-03-01T19:52:01.210Z"
   },
   {
    "duration": 63,
    "start_time": "2025-03-01T19:52:54.851Z"
   },
   {
    "duration": 3,
    "start_time": "2025-03-01T19:53:06.334Z"
   },
   {
    "duration": 60,
    "start_time": "2025-03-01T19:53:07.034Z"
   },
   {
    "duration": 3,
    "start_time": "2025-03-01T19:58:40.827Z"
   },
   {
    "duration": 68,
    "start_time": "2025-03-01T19:58:41.478Z"
   },
   {
    "duration": 64,
    "start_time": "2025-03-01T19:59:12.340Z"
   },
   {
    "duration": 64,
    "start_time": "2025-03-01T19:59:15.032Z"
   },
   {
    "duration": 67,
    "start_time": "2025-03-01T19:59:39.377Z"
   },
   {
    "duration": 2,
    "start_time": "2025-03-01T19:59:41.221Z"
   },
   {
    "duration": 64,
    "start_time": "2025-03-01T19:59:44.233Z"
   },
   {
    "duration": 64,
    "start_time": "2025-03-01T19:59:59.039Z"
   },
   {
    "duration": 65,
    "start_time": "2025-03-01T20:00:06.402Z"
   },
   {
    "duration": 66,
    "start_time": "2025-03-01T20:00:20.445Z"
   },
   {
    "duration": 2,
    "start_time": "2025-03-01T20:00:32.733Z"
   },
   {
    "duration": 92,
    "start_time": "2025-03-01T20:00:34.919Z"
   },
   {
    "duration": 65,
    "start_time": "2025-03-01T20:00:49.194Z"
   },
   {
    "duration": 3,
    "start_time": "2025-03-01T20:04:33.692Z"
   },
   {
    "duration": 68,
    "start_time": "2025-03-01T20:04:35.128Z"
   },
   {
    "duration": 3,
    "start_time": "2025-03-01T20:04:54.072Z"
   },
   {
    "duration": 1372,
    "start_time": "2025-03-01T20:05:06.438Z"
   },
   {
    "duration": 1487,
    "start_time": "2025-03-01T20:05:18.762Z"
   },
   {
    "duration": 13,
    "start_time": "2025-03-01T20:05:40.093Z"
   },
   {
    "duration": 20,
    "start_time": "2025-03-01T20:05:51.277Z"
   },
   {
    "duration": 11,
    "start_time": "2025-03-01T20:06:07.548Z"
   },
   {
    "duration": 10,
    "start_time": "2025-03-01T20:06:20.571Z"
   },
   {
    "duration": 540,
    "start_time": "2025-03-01T20:06:33.838Z"
   },
   {
    "duration": 580,
    "start_time": "2025-03-01T20:07:12.094Z"
   },
   {
    "duration": 2269,
    "start_time": "2025-03-01T20:07:58.673Z"
   },
   {
    "duration": 6,
    "start_time": "2025-03-01T20:08:04.374Z"
   },
   {
    "duration": 8,
    "start_time": "2025-03-01T20:08:16.134Z"
   },
   {
    "duration": 75,
    "start_time": "2025-03-01T20:08:19.603Z"
   },
   {
    "duration": 65,
    "start_time": "2025-03-01T20:08:21.035Z"
   },
   {
    "duration": 8,
    "start_time": "2025-03-01T20:08:21.890Z"
   },
   {
    "duration": 2298,
    "start_time": "2025-03-01T20:09:29.254Z"
   },
   {
    "duration": 2501,
    "start_time": "2025-03-01T20:09:45.123Z"
   },
   {
    "duration": 74,
    "start_time": "2025-03-01T20:10:14.879Z"
   },
   {
    "duration": 66,
    "start_time": "2025-03-01T20:10:15.737Z"
   },
   {
    "duration": 8,
    "start_time": "2025-03-01T20:10:16.531Z"
   },
   {
    "duration": 440,
    "start_time": "2025-03-01T20:11:24.076Z"
   },
   {
    "duration": 312,
    "start_time": "2025-03-01T20:11:25.715Z"
   },
   {
    "duration": 9,
    "start_time": "2025-03-01T20:11:28.596Z"
   },
   {
    "duration": 5,
    "start_time": "2025-03-01T20:11:31.262Z"
   },
   {
    "duration": 14,
    "start_time": "2025-03-01T20:11:33.526Z"
   },
   {
    "duration": 731,
    "start_time": "2025-03-01T20:12:29.446Z"
   },
   {
    "duration": 11,
    "start_time": "2025-03-01T20:15:11.758Z"
   },
   {
    "duration": 11,
    "start_time": "2025-03-01T20:15:17.446Z"
   },
   {
    "duration": 2468,
    "start_time": "2025-03-01T20:15:57.019Z"
   },
   {
    "duration": 2564,
    "start_time": "2025-03-01T20:16:00.227Z"
   },
   {
    "duration": 1364,
    "start_time": "2025-03-01T20:16:49.022Z"
   },
   {
    "duration": 68,
    "start_time": "2025-03-01T20:17:09.338Z"
   },
   {
    "duration": 5,
    "start_time": "2025-03-01T20:17:11.271Z"
   },
   {
    "duration": 2430,
    "start_time": "2025-03-01T20:17:15.282Z"
   },
   {
    "duration": 8,
    "start_time": "2025-03-01T20:17:19.848Z"
   },
   {
    "duration": 15,
    "start_time": "2025-03-01T20:18:21.121Z"
   },
   {
    "duration": 14464,
    "start_time": "2025-03-01T20:18:24.983Z"
   },
   {
    "duration": 33,
    "start_time": "2025-03-01T20:18:39.489Z"
   },
   {
    "duration": 398,
    "start_time": "2025-03-01T20:19:00.202Z"
   },
   {
    "duration": 30,
    "start_time": "2025-03-01T20:19:00.714Z"
   },
   {
    "duration": 405,
    "start_time": "2025-03-01T20:19:42.714Z"
   },
   {
    "duration": 105,
    "start_time": "2025-03-01T20:43:22.919Z"
   },
   {
    "duration": 15,
    "start_time": "2025-03-01T20:43:23.434Z"
   },
   {
    "duration": 26,
    "start_time": "2025-03-01T20:44:24.358Z"
   },
   {
    "duration": 1109,
    "start_time": "2025-03-01T20:45:37.597Z"
   },
   {
    "duration": 10,
    "start_time": "2025-03-01T20:45:59.197Z"
   },
   {
    "duration": 346,
    "start_time": "2025-03-01T20:46:04.885Z"
   },
   {
    "duration": 415,
    "start_time": "2025-03-01T20:50:00.986Z"
   },
   {
    "duration": 6,
    "start_time": "2025-03-01T20:52:29.269Z"
   },
   {
    "duration": 18,
    "start_time": "2025-03-01T20:52:36.928Z"
   },
   {
    "duration": 66,
    "start_time": "2025-03-01T20:52:47.655Z"
   },
   {
    "duration": 48,
    "start_time": "2025-03-01T20:53:07.167Z"
   },
   {
    "duration": 48,
    "start_time": "2025-03-01T20:54:41.336Z"
   },
   {
    "duration": 445,
    "start_time": "2025-03-01T20:57:27.520Z"
   },
   {
    "duration": 825,
    "start_time": "2025-03-02T10:16:59.479Z"
   },
   {
    "duration": 4,
    "start_time": "2025-03-02T10:17:00.306Z"
   },
   {
    "duration": 1402,
    "start_time": "2025-03-02T10:17:09.762Z"
   },
   {
    "duration": 14,
    "start_time": "2025-03-02T10:17:41.262Z"
   },
   {
    "duration": 15,
    "start_time": "2025-03-02T10:17:41.435Z"
   },
   {
    "duration": 10,
    "start_time": "2025-03-02T10:17:41.578Z"
   },
   {
    "duration": 10,
    "start_time": "2025-03-02T10:17:41.798Z"
   },
   {
    "duration": 430,
    "start_time": "2025-03-02T10:17:41.994Z"
   },
   {
    "duration": 430,
    "start_time": "2025-03-02T10:17:42.902Z"
   },
   {
    "duration": 73,
    "start_time": "2025-03-02T10:17:44.271Z"
   },
   {
    "duration": 6,
    "start_time": "2025-03-02T10:17:44.671Z"
   },
   {
    "duration": 91,
    "start_time": "2025-03-02T10:17:45.047Z"
   },
   {
    "duration": 82,
    "start_time": "2025-03-02T10:17:45.709Z"
   },
   {
    "duration": 74,
    "start_time": "2025-03-02T10:17:45.869Z"
   },
   {
    "duration": 8,
    "start_time": "2025-03-02T10:17:46.019Z"
   },
   {
    "duration": 21,
    "start_time": "2025-03-02T10:17:47.146Z"
   },
   {
    "duration": 4,
    "start_time": "2025-03-02T10:17:47.340Z"
   },
   {
    "duration": 41,
    "start_time": "2025-03-02T10:17:47.490Z"
   },
   {
    "duration": 38,
    "start_time": "2025-03-02T10:17:47.669Z"
   },
   {
    "duration": 4,
    "start_time": "2025-03-02T10:17:48.528Z"
   },
   {
    "duration": 4,
    "start_time": "2025-03-02T10:17:48.704Z"
   },
   {
    "duration": 5,
    "start_time": "2025-03-02T10:17:49.614Z"
   },
   {
    "duration": 4,
    "start_time": "2025-03-02T10:17:49.800Z"
   },
   {
    "duration": 2152,
    "start_time": "2025-03-02T10:17:50.559Z"
   },
   {
    "duration": 2135,
    "start_time": "2025-03-02T10:17:52.714Z"
   },
   {
    "duration": 7,
    "start_time": "2025-03-02T10:17:54.851Z"
   },
   {
    "duration": 4,
    "start_time": "2025-03-02T10:17:54.860Z"
   },
   {
    "duration": 4,
    "start_time": "2025-03-02T10:17:54.866Z"
   },
   {
    "duration": 7,
    "start_time": "2025-03-02T10:17:54.871Z"
   },
   {
    "duration": 31,
    "start_time": "2025-03-02T10:17:54.882Z"
   },
   {
    "duration": 6,
    "start_time": "2025-03-02T10:17:55.916Z"
   },
   {
    "duration": 73,
    "start_time": "2025-03-02T10:17:56.076Z"
   },
   {
    "duration": 434,
    "start_time": "2025-03-02T10:17:57.023Z"
   },
   {
    "duration": 2774,
    "start_time": "2025-03-02T10:17:57.460Z"
   },
   {
    "duration": 927,
    "start_time": "2025-03-02T10:18:00.236Z"
   },
   {
    "duration": 0,
    "start_time": "2025-03-02T10:18:01.165Z"
   },
   {
    "duration": 0,
    "start_time": "2025-03-02T10:18:01.166Z"
   },
   {
    "duration": 0,
    "start_time": "2025-03-02T10:18:01.167Z"
   },
   {
    "duration": 0,
    "start_time": "2025-03-02T10:18:01.168Z"
   },
   {
    "duration": 0,
    "start_time": "2025-03-02T10:18:01.169Z"
   },
   {
    "duration": 299,
    "start_time": "2025-03-02T10:18:01.690Z"
   },
   {
    "duration": 396,
    "start_time": "2025-03-02T10:18:02.596Z"
   },
   {
    "duration": 10,
    "start_time": "2025-03-02T10:18:03.587Z"
   },
   {
    "duration": 6,
    "start_time": "2025-03-02T10:18:03.808Z"
   },
   {
    "duration": 19,
    "start_time": "2025-03-02T10:18:04.028Z"
   },
   {
    "duration": 385,
    "start_time": "2025-03-02T10:18:51.479Z"
   },
   {
    "duration": 148,
    "start_time": "2025-03-02T10:19:59.676Z"
   },
   {
    "duration": 162,
    "start_time": "2025-03-02T10:21:00.121Z"
   },
   {
    "duration": 9,
    "start_time": "2025-03-02T10:21:12.452Z"
   },
   {
    "duration": 841,
    "start_time": "2025-03-02T10:22:02.461Z"
   },
   {
    "duration": 4,
    "start_time": "2025-03-02T10:22:03.305Z"
   },
   {
    "duration": 1418,
    "start_time": "2025-03-02T10:22:03.311Z"
   },
   {
    "duration": 11,
    "start_time": "2025-03-02T10:22:11.846Z"
   },
   {
    "duration": 847,
    "start_time": "2025-03-02T10:22:50.245Z"
   },
   {
    "duration": 9,
    "start_time": "2025-03-02T10:22:53.815Z"
   },
   {
    "duration": 13,
    "start_time": "2025-03-02T10:22:56.218Z"
   },
   {
    "duration": 12,
    "start_time": "2025-03-02T10:22:56.375Z"
   },
   {
    "duration": 10,
    "start_time": "2025-03-02T10:22:56.668Z"
   },
   {
    "duration": 10,
    "start_time": "2025-03-02T10:22:56.839Z"
   },
   {
    "duration": 26,
    "start_time": "2025-03-02T10:22:56.990Z"
   },
   {
    "duration": 31,
    "start_time": "2025-03-02T10:22:57.587Z"
   },
   {
    "duration": 75,
    "start_time": "2025-03-02T10:22:58.406Z"
   },
   {
    "duration": 6,
    "start_time": "2025-03-02T10:22:58.712Z"
   },
   {
    "duration": 92,
    "start_time": "2025-03-02T10:22:58.858Z"
   },
   {
    "duration": 87,
    "start_time": "2025-03-02T10:22:59.375Z"
   },
   {
    "duration": 90,
    "start_time": "2025-03-02T10:22:59.510Z"
   },
   {
    "duration": 4,
    "start_time": "2025-03-02T10:22:59.675Z"
   },
   {
    "duration": 12,
    "start_time": "2025-03-02T10:23:00.495Z"
   },
   {
    "duration": 4,
    "start_time": "2025-03-02T10:23:00.634Z"
   },
   {
    "duration": 34,
    "start_time": "2025-03-02T10:23:00.797Z"
   },
   {
    "duration": 36,
    "start_time": "2025-03-02T10:23:00.967Z"
   },
   {
    "duration": 5,
    "start_time": "2025-03-02T10:23:01.798Z"
   },
   {
    "duration": 4,
    "start_time": "2025-03-02T10:23:01.943Z"
   },
   {
    "duration": 4,
    "start_time": "2025-03-02T10:23:02.582Z"
   },
   {
    "duration": 4,
    "start_time": "2025-03-02T10:23:02.730Z"
   },
   {
    "duration": 785,
    "start_time": "2025-03-02T10:23:03.862Z"
   },
   {
    "duration": 782,
    "start_time": "2025-03-02T10:23:05.727Z"
   },
   {
    "duration": 8,
    "start_time": "2025-03-02T10:23:07.098Z"
   },
   {
    "duration": 5,
    "start_time": "2025-03-02T10:23:08.079Z"
   },
   {
    "duration": 5,
    "start_time": "2025-03-02T10:23:08.615Z"
   },
   {
    "duration": 7,
    "start_time": "2025-03-02T10:23:09.685Z"
   },
   {
    "duration": 9,
    "start_time": "2025-03-02T10:23:10.476Z"
   },
   {
    "duration": 7,
    "start_time": "2025-03-02T10:23:13.327Z"
   },
   {
    "duration": 72,
    "start_time": "2025-03-02T10:23:13.504Z"
   },
   {
    "duration": 16,
    "start_time": "2025-03-02T10:23:17.055Z"
   },
   {
    "duration": 502,
    "start_time": "2025-03-02T10:23:17.834Z"
   },
   {
    "duration": 114,
    "start_time": "2025-03-02T10:23:31.399Z"
   },
   {
    "duration": 9,
    "start_time": "2025-03-02T10:23:35.601Z"
   },
   {
    "duration": 115,
    "start_time": "2025-03-02T10:23:38.189Z"
   },
   {
    "duration": 16,
    "start_time": "2025-03-02T10:23:42.009Z"
   },
   {
    "duration": 14,
    "start_time": "2025-03-02T10:23:42.255Z"
   },
   {
    "duration": 392,
    "start_time": "2025-03-02T10:23:55.459Z"
   },
   {
    "duration": 262,
    "start_time": "2025-03-02T10:24:07.916Z"
   },
   {
    "duration": 468,
    "start_time": "2025-03-02T10:24:21.367Z"
   },
   {
    "duration": 10,
    "start_time": "2025-03-02T10:24:31.678Z"
   },
   {
    "duration": 6,
    "start_time": "2025-03-02T10:24:32.192Z"
   },
   {
    "duration": 408,
    "start_time": "2025-03-02T10:24:33.849Z"
   },
   {
    "duration": 23,
    "start_time": "2025-03-02T10:24:47.081Z"
   },
   {
    "duration": 409,
    "start_time": "2025-03-02T10:24:47.136Z"
   },
   {
    "duration": 218,
    "start_time": "2025-03-02T10:24:57.991Z"
   },
   {
    "duration": 14,
    "start_time": "2025-03-02T10:24:58.268Z"
   },
   {
    "duration": 107,
    "start_time": "2025-03-02T10:25:48.104Z"
   },
   {
    "duration": 8,
    "start_time": "2025-03-02T10:25:56.133Z"
   },
   {
    "duration": 90,
    "start_time": "2025-03-02T10:26:03.413Z"
   },
   {
    "duration": 94,
    "start_time": "2025-03-02T10:26:26.909Z"
   },
   {
    "duration": 8,
    "start_time": "2025-03-02T10:26:32.687Z"
   },
   {
    "duration": 88,
    "start_time": "2025-03-02T10:27:37.028Z"
   },
   {
    "duration": 104,
    "start_time": "2025-03-02T10:27:46.555Z"
   },
   {
    "duration": 90,
    "start_time": "2025-03-02T10:27:56.007Z"
   },
   {
    "duration": 102,
    "start_time": "2025-03-02T10:27:59.106Z"
   },
   {
    "duration": 92,
    "start_time": "2025-03-02T10:28:11.975Z"
   },
   {
    "duration": 8,
    "start_time": "2025-03-02T10:28:13.884Z"
   },
   {
    "duration": 273,
    "start_time": "2025-03-02T10:28:30.158Z"
   },
   {
    "duration": 14,
    "start_time": "2025-03-02T10:28:30.694Z"
   },
   {
    "duration": 368,
    "start_time": "2025-03-02T10:28:31.298Z"
   },
   {
    "duration": 14,
    "start_time": "2025-03-02T10:28:37.034Z"
   },
   {
    "duration": 169,
    "start_time": "2025-03-02T10:29:26.230Z"
   },
   {
    "duration": 111,
    "start_time": "2025-03-02T10:29:45.105Z"
   },
   {
    "duration": 47,
    "start_time": "2025-03-02T10:29:57.345Z"
   },
   {
    "duration": 65,
    "start_time": "2025-03-02T10:30:11.458Z"
   },
   {
    "duration": 58,
    "start_time": "2025-03-02T10:30:14.902Z"
   },
   {
    "duration": 46,
    "start_time": "2025-03-02T10:30:18.732Z"
   },
   {
    "duration": 7,
    "start_time": "2025-03-02T10:30:26.280Z"
   },
   {
    "duration": 5,
    "start_time": "2025-03-02T10:30:27.797Z"
   },
   {
    "duration": 122,
    "start_time": "2025-03-02T10:30:57.590Z"
   },
   {
    "duration": 13,
    "start_time": "2025-03-02T10:30:58.003Z"
   },
   {
    "duration": 897,
    "start_time": "2025-03-02T10:31:00.870Z"
   },
   {
    "duration": 19,
    "start_time": "2025-03-02T10:31:01.769Z"
   },
   {
    "duration": 15,
    "start_time": "2025-03-02T10:31:02.112Z"
   },
   {
    "duration": 16,
    "start_time": "2025-03-02T10:31:05.194Z"
   }
  ],
  "colab": {
   "provenance": []
  },
  "kernelspec": {
   "display_name": "Python 3 (ipykernel)",
   "language": "python",
   "name": "python3"
  },
  "language_info": {
   "codemirror_mode": {
    "name": "ipython",
    "version": 3
   },
   "file_extension": ".py",
   "mimetype": "text/x-python",
   "name": "python",
   "nbconvert_exporter": "python",
   "pygments_lexer": "ipython3",
   "version": "3.13.2"
  },
  "toc": {
   "base_numbering": 1,
   "nav_menu": {},
   "number_sections": true,
   "sideBar": true,
   "skip_h1_title": true,
   "title_cell": "Table of Contents",
   "title_sidebar": "Contents",
   "toc_cell": false,
   "toc_position": {},
   "toc_section_display": true,
   "toc_window_display": false
  },
  "vscode": {
   "interpreter": {
    "hash": "01a7be9ec63e704a62cefc5fe7a4756944464ee731be31632bdf42a4cb4688cf"
   }
  }
 },
 "nbformat": 4,
 "nbformat_minor": 5
}
